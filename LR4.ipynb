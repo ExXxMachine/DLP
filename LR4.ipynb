{
  "nbformat": 4,
  "nbformat_minor": 0,
  "metadata": {
    "colab": {
      "provenance": []
    },
    "kernelspec": {
      "name": "python3",
      "display_name": "Python 3"
    },
    "language_info": {
      "name": "python"
    }
  },
  "cells": [
    {
      "cell_type": "code",
      "execution_count": 1,
      "metadata": {
        "id": "SyUEmSN6b68D"
      },
      "outputs": [],
      "source": [
        "import pandas as pd\n",
        "import numpy as np\n",
        "from sklearn.model_selection import train_test_split\n",
        "from sklearn.preprocessing import LabelEncoder, StandardScaler\n",
        "from sklearn.metrics import confusion_matrix, classification_report, mean_absolute_error, mean_squared_error, accuracy_score\n",
        "from sklearn.naive_bayes import GaussianNB, MultinomialNB, ComplementNB, BernoulliNB, CategoricalNB"
      ]
    },
    {
      "cell_type": "code",
      "source": [
        "from google.colab import drive\n",
        "drive.mount('/content/drive')"
      ],
      "metadata": {
        "colab": {
          "base_uri": "https://localhost:8080/"
        },
        "id": "9PVXc12kJ1OI",
        "outputId": "e3c40be8-3cea-4fb3-cf0d-def09b055f58"
      },
      "execution_count": 2,
      "outputs": [
        {
          "output_type": "stream",
          "name": "stdout",
          "text": [
            "Mounted at /content/drive\n"
          ]
        }
      ]
    },
    {
      "cell_type": "markdown",
      "source": [
        "## Подключаем датасет"
      ],
      "metadata": {
        "id": "SGQgEG0nJ4cU"
      }
    },
    {
      "cell_type": "code",
      "source": [
        "df = pd.read_csv('/content/drive/MyDrive/cars.csv')\n",
        "print(df.head(5))"
      ],
      "metadata": {
        "colab": {
          "base_uri": "https://localhost:8080/"
        },
        "id": "sDyoc_bGJ9fX",
        "outputId": "61860679-f275-4d97-f19d-99acc7aed8b0"
      },
      "execution_count": 3,
      "outputs": [
        {
          "output_type": "stream",
          "name": "stdout",
          "text": [
            "  manufacturer_name model_name transmission   color  odometer_value  \\\n",
            "0            Subaru    Outback    automatic  silver          190000   \n",
            "1            Subaru    Outback    automatic    blue          290000   \n",
            "2            Subaru   Forester    automatic     red          402000   \n",
            "3            Subaru    Impreza   mechanical    blue           10000   \n",
            "4            Subaru     Legacy    automatic   black          280000   \n",
            "\n",
            "   year_produced engine_fuel  engine_has_gas engine_type  engine_capacity  \\\n",
            "0           2010    gasoline           False    gasoline              2.5   \n",
            "1           2002    gasoline           False    gasoline              3.0   \n",
            "2           2001    gasoline           False    gasoline              2.5   \n",
            "3           1999    gasoline           False    gasoline              3.0   \n",
            "4           2001    gasoline           False    gasoline              2.5   \n",
            "\n",
            "   ... feature_1  feature_2 feature_3 feature_4  feature_5  feature_6  \\\n",
            "0  ...      True       True      True     False       True      False   \n",
            "1  ...      True      False     False      True       True      False   \n",
            "2  ...      True      False     False     False      False      False   \n",
            "3  ...     False      False     False     False      False      False   \n",
            "4  ...      True      False      True      True      False      False   \n",
            "\n",
            "  feature_7  feature_8  feature_9  duration_listed  \n",
            "0      True       True       True               16  \n",
            "1     False      False       True               83  \n",
            "2     False       True       True              151  \n",
            "3     False      False      False               86  \n",
            "4     False      False       True                7  \n",
            "\n",
            "[5 rows x 30 columns]\n"
          ]
        }
      ]
    },
    {
      "cell_type": "markdown",
      "metadata": {
        "id": "CIFOM8eI1Z6b"
      },
      "source": [
        "### Удаление ненужных и пустых столбцов"
      ]
    },
    {
      "cell_type": "code",
      "execution_count": 4,
      "metadata": {
        "colab": {
          "base_uri": "https://localhost:8080/"
        },
        "id": "Y4HJ0kdn1Z6o",
        "outputId": "1fb1b231-b8b6-42ee-bfb1-ec33f2b4f79c"
      },
      "outputs": [
        {
          "output_type": "stream",
          "name": "stdout",
          "text": [
            "   odometer_value  year_produced  has_warranty  price_usd  is_exchangeable  \\\n",
            "0          190000           2010         False   10900.00            False   \n",
            "1          290000           2002         False    5000.00             True   \n",
            "2          402000           2001         False    2800.00             True   \n",
            "3           10000           1999         False    9999.00             True   \n",
            "4          280000           2001         False    2134.11             True   \n",
            "\n",
            "   number_of_photos  up_counter  \n",
            "0                 9          13  \n",
            "1                12          54  \n",
            "2                 4          72  \n",
            "3                 9          42  \n",
            "4                14           7  \n"
          ]
        }
      ],
      "source": [
        "columns_to_drop = ['engine_has_gas','body_type','state','drivetrain','color','model_name','engine_fuel','manufacturer_name','engine_capacity','location_region','transmission','engine_type','feature_0','feature_1', 'feature_2', 'feature_3', 'feature_4', 'feature_5', 'feature_6', 'feature_7', 'feature_8', 'feature_9', 'duration_listed']\n",
        "df = df.drop(columns=columns_to_drop, axis=1)\n",
        "df.dropna(inplace=True)\n",
        "\n",
        "print(df.head(5))"
      ]
    },
    {
      "cell_type": "markdown",
      "metadata": {
        "id": "PV2MmnAw1Z6q"
      },
      "source": [
        "### Кодирование текстовых значений"
      ]
    },
    {
      "cell_type": "code",
      "execution_count": 5,
      "metadata": {
        "colab": {
          "base_uri": "https://localhost:8080/"
        },
        "id": "LBg-xw5k1Z6q",
        "outputId": "df0bd856-e84c-486f-90ec-87923fdb5935"
      },
      "outputs": [
        {
          "output_type": "stream",
          "name": "stdout",
          "text": [
            "   odometer_value  year_produced  has_warranty  price_usd  is_exchangeable  \\\n",
            "0          190000           2010         False   10900.00            False   \n",
            "1          290000           2002         False    5000.00             True   \n",
            "2          402000           2001         False    2800.00             True   \n",
            "3           10000           1999         False    9999.00             True   \n",
            "4          280000           2001         False    2134.11             True   \n",
            "\n",
            "   number_of_photos  up_counter  \n",
            "0                 9          13  \n",
            "1                12          54  \n",
            "2                 4          72  \n",
            "3                 9          42  \n",
            "4                14           7  \n"
          ]
        }
      ],
      "source": [
        "label_encoders = {}\n",
        "for column in df.select_dtypes(include=['object']).columns:\n",
        "    label_encoders[column] = LabelEncoder()\n",
        "    df[column] = label_encoders[column].fit_transform(df[column])\n",
        "\n",
        "print(df.head(5))"
      ]
    },
    {
      "cell_type": "markdown",
      "source": [
        "Предполагаем, что столбец is_exchangeable - это метки классов"
      ],
      "metadata": {
        "id": "zw18VfQTFKi2"
      }
    },
    {
      "cell_type": "code",
      "execution_count": 6,
      "metadata": {
        "id": "Toywe46Y1Z6r"
      },
      "outputs": [],
      "source": [
        "X = df.drop(columns=['is_exchangeable'])\n",
        "y = df['is_exchangeable']"
      ]
    },
    {
      "cell_type": "markdown",
      "source": [
        "Разбиваем данные на обучающий и тестовый наборы"
      ],
      "metadata": {
        "id": "xle6RrRjFgyJ"
      }
    },
    {
      "cell_type": "code",
      "execution_count": 7,
      "metadata": {
        "id": "aRw4U7Hk1Z6s"
      },
      "outputs": [],
      "source": [
        "X_train, X_test, y_train, y_test = train_test_split(X, y, test_size=0.2, random_state=42)\n"
      ]
    },
    {
      "cell_type": "markdown",
      "source": [
        "#### Обычная байесовская модель"
      ],
      "metadata": {
        "id": "QInY6lj4Hij8"
      }
    },
    {
      "cell_type": "markdown",
      "source": [
        "Создание и обучение модели"
      ],
      "metadata": {
        "id": "a6HYGSfxqoPf"
      }
    },
    {
      "cell_type": "code",
      "execution_count": 8,
      "metadata": {
        "colab": {
          "base_uri": "https://localhost:8080/",
          "height": 74
        },
        "outputId": "a6abb57a-c835-4f7e-b8e4-9a0ee2a43f91",
        "id": "WOGo5Uz1qoPj"
      },
      "outputs": [
        {
          "output_type": "execute_result",
          "data": {
            "text/plain": [
              "GaussianNB()"
            ],
            "text/html": [
              "<style>#sk-container-id-1 {color: black;background-color: white;}#sk-container-id-1 pre{padding: 0;}#sk-container-id-1 div.sk-toggleable {background-color: white;}#sk-container-id-1 label.sk-toggleable__label {cursor: pointer;display: block;width: 100%;margin-bottom: 0;padding: 0.3em;box-sizing: border-box;text-align: center;}#sk-container-id-1 label.sk-toggleable__label-arrow:before {content: \"▸\";float: left;margin-right: 0.25em;color: #696969;}#sk-container-id-1 label.sk-toggleable__label-arrow:hover:before {color: black;}#sk-container-id-1 div.sk-estimator:hover label.sk-toggleable__label-arrow:before {color: black;}#sk-container-id-1 div.sk-toggleable__content {max-height: 0;max-width: 0;overflow: hidden;text-align: left;background-color: #f0f8ff;}#sk-container-id-1 div.sk-toggleable__content pre {margin: 0.2em;color: black;border-radius: 0.25em;background-color: #f0f8ff;}#sk-container-id-1 input.sk-toggleable__control:checked~div.sk-toggleable__content {max-height: 200px;max-width: 100%;overflow: auto;}#sk-container-id-1 input.sk-toggleable__control:checked~label.sk-toggleable__label-arrow:before {content: \"▾\";}#sk-container-id-1 div.sk-estimator input.sk-toggleable__control:checked~label.sk-toggleable__label {background-color: #d4ebff;}#sk-container-id-1 div.sk-label input.sk-toggleable__control:checked~label.sk-toggleable__label {background-color: #d4ebff;}#sk-container-id-1 input.sk-hidden--visually {border: 0;clip: rect(1px 1px 1px 1px);clip: rect(1px, 1px, 1px, 1px);height: 1px;margin: -1px;overflow: hidden;padding: 0;position: absolute;width: 1px;}#sk-container-id-1 div.sk-estimator {font-family: monospace;background-color: #f0f8ff;border: 1px dotted black;border-radius: 0.25em;box-sizing: border-box;margin-bottom: 0.5em;}#sk-container-id-1 div.sk-estimator:hover {background-color: #d4ebff;}#sk-container-id-1 div.sk-parallel-item::after {content: \"\";width: 100%;border-bottom: 1px solid gray;flex-grow: 1;}#sk-container-id-1 div.sk-label:hover label.sk-toggleable__label {background-color: #d4ebff;}#sk-container-id-1 div.sk-serial::before {content: \"\";position: absolute;border-left: 1px solid gray;box-sizing: border-box;top: 0;bottom: 0;left: 50%;z-index: 0;}#sk-container-id-1 div.sk-serial {display: flex;flex-direction: column;align-items: center;background-color: white;padding-right: 0.2em;padding-left: 0.2em;position: relative;}#sk-container-id-1 div.sk-item {position: relative;z-index: 1;}#sk-container-id-1 div.sk-parallel {display: flex;align-items: stretch;justify-content: center;background-color: white;position: relative;}#sk-container-id-1 div.sk-item::before, #sk-container-id-1 div.sk-parallel-item::before {content: \"\";position: absolute;border-left: 1px solid gray;box-sizing: border-box;top: 0;bottom: 0;left: 50%;z-index: -1;}#sk-container-id-1 div.sk-parallel-item {display: flex;flex-direction: column;z-index: 1;position: relative;background-color: white;}#sk-container-id-1 div.sk-parallel-item:first-child::after {align-self: flex-end;width: 50%;}#sk-container-id-1 div.sk-parallel-item:last-child::after {align-self: flex-start;width: 50%;}#sk-container-id-1 div.sk-parallel-item:only-child::after {width: 0;}#sk-container-id-1 div.sk-dashed-wrapped {border: 1px dashed gray;margin: 0 0.4em 0.5em 0.4em;box-sizing: border-box;padding-bottom: 0.4em;background-color: white;}#sk-container-id-1 div.sk-label label {font-family: monospace;font-weight: bold;display: inline-block;line-height: 1.2em;}#sk-container-id-1 div.sk-label-container {text-align: center;}#sk-container-id-1 div.sk-container {/* jupyter's `normalize.less` sets `[hidden] { display: none; }` but bootstrap.min.css set `[hidden] { display: none !important; }` so we also need the `!important` here to be able to override the default hidden behavior on the sphinx rendered scikit-learn.org. See: https://github.com/scikit-learn/scikit-learn/issues/21755 */display: inline-block !important;position: relative;}#sk-container-id-1 div.sk-text-repr-fallback {display: none;}</style><div id=\"sk-container-id-1\" class=\"sk-top-container\"><div class=\"sk-text-repr-fallback\"><pre>GaussianNB()</pre><b>In a Jupyter environment, please rerun this cell to show the HTML representation or trust the notebook. <br />On GitHub, the HTML representation is unable to render, please try loading this page with nbviewer.org.</b></div><div class=\"sk-container\" hidden><div class=\"sk-item\"><div class=\"sk-estimator sk-toggleable\"><input class=\"sk-toggleable__control sk-hidden--visually\" id=\"sk-estimator-id-1\" type=\"checkbox\" checked><label for=\"sk-estimator-id-1\" class=\"sk-toggleable__label sk-toggleable__label-arrow\">GaussianNB</label><div class=\"sk-toggleable__content\"><pre>GaussianNB()</pre></div></div></div></div></div>"
            ]
          },
          "metadata": {},
          "execution_count": 8
        }
      ],
      "source": [
        "nb_gaussian = GaussianNB()\n",
        "\n",
        "nb_gaussian.fit(X_train, y_train)"
      ]
    },
    {
      "cell_type": "markdown",
      "source": [
        "Вывод результата"
      ],
      "metadata": {
        "id": "4yhXRq_VqoPk"
      }
    },
    {
      "cell_type": "code",
      "source": [
        "nb_gaussian_pred = nb_gaussian.predict(X_test)\n",
        "\n",
        "print(f'Сравнение метрик: \\n{classification_report(y_test, nb_gaussian_pred)}\\n')\n",
        "print(f'Матрица ошибок: \\n{confusion_matrix(y_test, nb_gaussian_pred)}\\n')"
      ],
      "metadata": {
        "outputId": "4cda4fe1-b085-42e8-fac6-895272bdf8f6",
        "colab": {
          "base_uri": "https://localhost:8080/"
        },
        "id": "BmPiabdVqoPk"
      },
      "execution_count": 9,
      "outputs": [
        {
          "output_type": "stream",
          "name": "stdout",
          "text": [
            "Сравнение метрик: \n",
            "              precision    recall  f1-score   support\n",
            "\n",
            "       False       0.67      0.95      0.79      5067\n",
            "        True       0.50      0.10      0.16      2640\n",
            "\n",
            "    accuracy                           0.66      7707\n",
            "   macro avg       0.59      0.52      0.47      7707\n",
            "weighted avg       0.61      0.66      0.57      7707\n",
            "\n",
            "\n",
            "Матрица ошибок: \n",
            "[[4816  251]\n",
            " [2384  256]]\n",
            "\n"
          ]
        }
      ]
    },
    {
      "cell_type": "markdown",
      "source": [
        "Создание и обучение модели"
      ],
      "metadata": {
        "id": "KxoEFYaRseTw"
      }
    },
    {
      "cell_type": "code",
      "execution_count": 10,
      "metadata": {
        "colab": {
          "base_uri": "https://localhost:8080/",
          "height": 74
        },
        "outputId": "852b9507-a582-4b0e-cdd3-17834a590a24",
        "id": "CO-1C-1OseTw"
      },
      "outputs": [
        {
          "output_type": "execute_result",
          "data": {
            "text/plain": [
              "BernoulliNB()"
            ],
            "text/html": [
              "<style>#sk-container-id-2 {color: black;background-color: white;}#sk-container-id-2 pre{padding: 0;}#sk-container-id-2 div.sk-toggleable {background-color: white;}#sk-container-id-2 label.sk-toggleable__label {cursor: pointer;display: block;width: 100%;margin-bottom: 0;padding: 0.3em;box-sizing: border-box;text-align: center;}#sk-container-id-2 label.sk-toggleable__label-arrow:before {content: \"▸\";float: left;margin-right: 0.25em;color: #696969;}#sk-container-id-2 label.sk-toggleable__label-arrow:hover:before {color: black;}#sk-container-id-2 div.sk-estimator:hover label.sk-toggleable__label-arrow:before {color: black;}#sk-container-id-2 div.sk-toggleable__content {max-height: 0;max-width: 0;overflow: hidden;text-align: left;background-color: #f0f8ff;}#sk-container-id-2 div.sk-toggleable__content pre {margin: 0.2em;color: black;border-radius: 0.25em;background-color: #f0f8ff;}#sk-container-id-2 input.sk-toggleable__control:checked~div.sk-toggleable__content {max-height: 200px;max-width: 100%;overflow: auto;}#sk-container-id-2 input.sk-toggleable__control:checked~label.sk-toggleable__label-arrow:before {content: \"▾\";}#sk-container-id-2 div.sk-estimator input.sk-toggleable__control:checked~label.sk-toggleable__label {background-color: #d4ebff;}#sk-container-id-2 div.sk-label input.sk-toggleable__control:checked~label.sk-toggleable__label {background-color: #d4ebff;}#sk-container-id-2 input.sk-hidden--visually {border: 0;clip: rect(1px 1px 1px 1px);clip: rect(1px, 1px, 1px, 1px);height: 1px;margin: -1px;overflow: hidden;padding: 0;position: absolute;width: 1px;}#sk-container-id-2 div.sk-estimator {font-family: monospace;background-color: #f0f8ff;border: 1px dotted black;border-radius: 0.25em;box-sizing: border-box;margin-bottom: 0.5em;}#sk-container-id-2 div.sk-estimator:hover {background-color: #d4ebff;}#sk-container-id-2 div.sk-parallel-item::after {content: \"\";width: 100%;border-bottom: 1px solid gray;flex-grow: 1;}#sk-container-id-2 div.sk-label:hover label.sk-toggleable__label {background-color: #d4ebff;}#sk-container-id-2 div.sk-serial::before {content: \"\";position: absolute;border-left: 1px solid gray;box-sizing: border-box;top: 0;bottom: 0;left: 50%;z-index: 0;}#sk-container-id-2 div.sk-serial {display: flex;flex-direction: column;align-items: center;background-color: white;padding-right: 0.2em;padding-left: 0.2em;position: relative;}#sk-container-id-2 div.sk-item {position: relative;z-index: 1;}#sk-container-id-2 div.sk-parallel {display: flex;align-items: stretch;justify-content: center;background-color: white;position: relative;}#sk-container-id-2 div.sk-item::before, #sk-container-id-2 div.sk-parallel-item::before {content: \"\";position: absolute;border-left: 1px solid gray;box-sizing: border-box;top: 0;bottom: 0;left: 50%;z-index: -1;}#sk-container-id-2 div.sk-parallel-item {display: flex;flex-direction: column;z-index: 1;position: relative;background-color: white;}#sk-container-id-2 div.sk-parallel-item:first-child::after {align-self: flex-end;width: 50%;}#sk-container-id-2 div.sk-parallel-item:last-child::after {align-self: flex-start;width: 50%;}#sk-container-id-2 div.sk-parallel-item:only-child::after {width: 0;}#sk-container-id-2 div.sk-dashed-wrapped {border: 1px dashed gray;margin: 0 0.4em 0.5em 0.4em;box-sizing: border-box;padding-bottom: 0.4em;background-color: white;}#sk-container-id-2 div.sk-label label {font-family: monospace;font-weight: bold;display: inline-block;line-height: 1.2em;}#sk-container-id-2 div.sk-label-container {text-align: center;}#sk-container-id-2 div.sk-container {/* jupyter's `normalize.less` sets `[hidden] { display: none; }` but bootstrap.min.css set `[hidden] { display: none !important; }` so we also need the `!important` here to be able to override the default hidden behavior on the sphinx rendered scikit-learn.org. See: https://github.com/scikit-learn/scikit-learn/issues/21755 */display: inline-block !important;position: relative;}#sk-container-id-2 div.sk-text-repr-fallback {display: none;}</style><div id=\"sk-container-id-2\" class=\"sk-top-container\"><div class=\"sk-text-repr-fallback\"><pre>BernoulliNB()</pre><b>In a Jupyter environment, please rerun this cell to show the HTML representation or trust the notebook. <br />On GitHub, the HTML representation is unable to render, please try loading this page with nbviewer.org.</b></div><div class=\"sk-container\" hidden><div class=\"sk-item\"><div class=\"sk-estimator sk-toggleable\"><input class=\"sk-toggleable__control sk-hidden--visually\" id=\"sk-estimator-id-2\" type=\"checkbox\" checked><label for=\"sk-estimator-id-2\" class=\"sk-toggleable__label sk-toggleable__label-arrow\">BernoulliNB</label><div class=\"sk-toggleable__content\"><pre>BernoulliNB()</pre></div></div></div></div></div>"
            ]
          },
          "metadata": {},
          "execution_count": 10
        }
      ],
      "source": [
        "nb_bernoulli = BernoulliNB()\n",
        "\n",
        "nb_bernoulli.fit(X_train, y_train)"
      ]
    },
    {
      "cell_type": "markdown",
      "source": [
        "Вывод результата"
      ],
      "metadata": {
        "id": "vkfd52_vseTx"
      }
    },
    {
      "cell_type": "code",
      "source": [
        "nb_bernoulli_pred = nb_bernoulli.predict(X_test)\n",
        "\n",
        "print(f'Сравнение метрик: \\n{classification_report(y_test, nb_bernoulli_pred)}\\n')\n",
        "print(f'Матрица ошибок: \\n{confusion_matrix(y_test, nb_bernoulli_pred)}\\n')"
      ],
      "metadata": {
        "outputId": "200c3f56-8b13-42c1-8ec5-39fab29d0a86",
        "colab": {
          "base_uri": "https://localhost:8080/"
        },
        "id": "-jnSTZc-seTy"
      },
      "execution_count": 11,
      "outputs": [
        {
          "output_type": "stream",
          "name": "stdout",
          "text": [
            "Сравнение метрик: \n",
            "              precision    recall  f1-score   support\n",
            "\n",
            "       False       0.66      1.00      0.80      5067\n",
            "        True       0.84      0.04      0.07      2640\n",
            "\n",
            "    accuracy                           0.67      7707\n",
            "   macro avg       0.75      0.52      0.43      7707\n",
            "weighted avg       0.72      0.67      0.55      7707\n",
            "\n",
            "\n",
            "Матрица ошибок: \n",
            "[[5049   18]\n",
            " [2546   94]]\n",
            "\n"
          ]
        }
      ]
    }
  ]
}