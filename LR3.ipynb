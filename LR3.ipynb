{
  "nbformat": 4,
  "nbformat_minor": 0,
  "metadata": {
    "colab": {
      "provenance": []
    },
    "kernelspec": {
      "name": "python3",
      "display_name": "Python 3"
    },
    "language_info": {
      "name": "python"
    }
  },
  "cells": [
    {
      "cell_type": "code",
      "execution_count": 14,
      "metadata": {
        "id": "Zwx8WNrAJR1Y"
      },
      "outputs": [],
      "source": [
        "import pandas as pd\n",
        "import numpy as np\n",
        "from sklearn.model_selection import train_test_split\n",
        "from sklearn.preprocessing import LabelEncoder, StandardScaler\n",
        "from sklearn.metrics import accuracy_score\n",
        "from sklearn.metrics import confusion_matrix, classification_report\n",
        "from sklearn.linear_model import LinearRegression, ElasticNet, Lasso, Ridge ,SGDRegressor, LogisticRegression\n",
        "from sklearn.metrics import mean_absolute_error, mean_squared_error"
      ]
    },
    {
      "cell_type": "code",
      "source": [
        "from google.colab import drive\n",
        "drive.mount('/content/drive')"
      ],
      "metadata": {
        "colab": {
          "base_uri": "https://localhost:8080/"
        },
        "id": "9PVXc12kJ1OI",
        "outputId": "c080618d-6e54-4ed9-c34e-5873f8015022"
      },
      "execution_count": 15,
      "outputs": [
        {
          "output_type": "stream",
          "name": "stdout",
          "text": [
            "Drive already mounted at /content/drive; to attempt to forcibly remount, call drive.mount(\"/content/drive\", force_remount=True).\n"
          ]
        }
      ]
    },
    {
      "cell_type": "markdown",
      "source": [
        "## Подключаем датасет"
      ],
      "metadata": {
        "id": "SGQgEG0nJ4cU"
      }
    },
    {
      "cell_type": "code",
      "source": [
        "df = pd.read_csv('/content/drive/MyDrive/cars.csv')\n",
        "print(df.head(5))"
      ],
      "metadata": {
        "colab": {
          "base_uri": "https://localhost:8080/"
        },
        "id": "sDyoc_bGJ9fX",
        "outputId": "15964b18-b53f-4d80-e0ea-e0392c743c6b"
      },
      "execution_count": 16,
      "outputs": [
        {
          "output_type": "stream",
          "name": "stdout",
          "text": [
            "  manufacturer_name model_name transmission   color  odometer_value  \\\n",
            "0            Subaru    Outback    automatic  silver          190000   \n",
            "1            Subaru    Outback    automatic    blue          290000   \n",
            "2            Subaru   Forester    automatic     red          402000   \n",
            "3            Subaru    Impreza   mechanical    blue           10000   \n",
            "4            Subaru     Legacy    automatic   black          280000   \n",
            "\n",
            "   year_produced engine_fuel  engine_has_gas engine_type  engine_capacity  \\\n",
            "0           2010    gasoline           False    gasoline              2.5   \n",
            "1           2002    gasoline           False    gasoline              3.0   \n",
            "2           2001    gasoline           False    gasoline              2.5   \n",
            "3           1999    gasoline           False    gasoline              3.0   \n",
            "4           2001    gasoline           False    gasoline              2.5   \n",
            "\n",
            "   ... feature_1  feature_2 feature_3 feature_4  feature_5  feature_6  \\\n",
            "0  ...      True       True      True     False       True      False   \n",
            "1  ...      True      False     False      True       True      False   \n",
            "2  ...      True      False     False     False      False      False   \n",
            "3  ...     False      False     False     False      False      False   \n",
            "4  ...      True      False      True      True      False      False   \n",
            "\n",
            "  feature_7  feature_8  feature_9  duration_listed  \n",
            "0      True       True       True               16  \n",
            "1     False      False       True               83  \n",
            "2     False       True       True              151  \n",
            "3     False      False      False               86  \n",
            "4     False      False       True                7  \n",
            "\n",
            "[5 rows x 30 columns]\n"
          ]
        }
      ]
    },
    {
      "cell_type": "markdown",
      "metadata": {
        "id": "CIFOM8eI1Z6b"
      },
      "source": [
        "### Удаление ненужных и пустых столбцов"
      ]
    },
    {
      "cell_type": "code",
      "execution_count": 17,
      "metadata": {
        "colab": {
          "base_uri": "https://localhost:8080/"
        },
        "id": "Y4HJ0kdn1Z6o",
        "outputId": "1c2e1d23-6d1c-489b-a879-fd2b4efacb6a"
      },
      "outputs": [
        {
          "output_type": "stream",
          "name": "stdout",
          "text": [
            "   odometer_value  year_produced  has_warranty  price_usd  is_exchangeable  \\\n",
            "0          190000           2010         False   10900.00            False   \n",
            "1          290000           2002         False    5000.00             True   \n",
            "2          402000           2001         False    2800.00             True   \n",
            "3           10000           1999         False    9999.00             True   \n",
            "4          280000           2001         False    2134.11             True   \n",
            "\n",
            "   number_of_photos  up_counter  \n",
            "0                 9          13  \n",
            "1                12          54  \n",
            "2                 4          72  \n",
            "3                 9          42  \n",
            "4                14           7  \n"
          ]
        }
      ],
      "source": [
        "columns_to_drop = ['engine_has_gas','body_type','state','drivetrain','color','model_name','engine_fuel','manufacturer_name','engine_capacity','location_region','transmission','engine_type','feature_0','feature_1', 'feature_2', 'feature_3', 'feature_4', 'feature_5', 'feature_6', 'feature_7', 'feature_8', 'feature_9', 'duration_listed']\n",
        "df = df.drop(columns=columns_to_drop, axis=1)\n",
        "df.dropna(inplace=True)\n",
        "\n",
        "print(df.head(5))"
      ]
    },
    {
      "cell_type": "markdown",
      "metadata": {
        "id": "PV2MmnAw1Z6q"
      },
      "source": [
        "### Кодирование текстовых значений"
      ]
    },
    {
      "cell_type": "code",
      "execution_count": 18,
      "metadata": {
        "colab": {
          "base_uri": "https://localhost:8080/"
        },
        "id": "LBg-xw5k1Z6q",
        "outputId": "7bd72281-615c-4bfd-caa9-c04ac4c6f2d4"
      },
      "outputs": [
        {
          "output_type": "stream",
          "name": "stdout",
          "text": [
            "   odometer_value  year_produced  has_warranty  price_usd  is_exchangeable  \\\n",
            "0          190000           2010         False   10900.00            False   \n",
            "1          290000           2002         False    5000.00             True   \n",
            "2          402000           2001         False    2800.00             True   \n",
            "3           10000           1999         False    9999.00             True   \n",
            "4          280000           2001         False    2134.11             True   \n",
            "\n",
            "   number_of_photos  up_counter  \n",
            "0                 9          13  \n",
            "1                12          54  \n",
            "2                 4          72  \n",
            "3                 9          42  \n",
            "4                14           7  \n"
          ]
        }
      ],
      "source": [
        "label_encoders = {}\n",
        "for column in df.select_dtypes(include=['object']).columns:\n",
        "    label_encoders[column] = LabelEncoder()\n",
        "    df[column] = label_encoders[column].fit_transform(df[column])\n",
        "\n",
        "print(df.head(5))"
      ]
    },
    {
      "cell_type": "markdown",
      "source": [
        "Предполагаем, что столбец is_exchangeable - это метки классов"
      ],
      "metadata": {
        "id": "zw18VfQTFKi2"
      }
    },
    {
      "cell_type": "code",
      "execution_count": 19,
      "metadata": {
        "id": "Toywe46Y1Z6r"
      },
      "outputs": [],
      "source": [
        "X = df.drop(columns=['is_exchangeable'])\n",
        "y = df['is_exchangeable']"
      ]
    },
    {
      "cell_type": "markdown",
      "source": [
        "Разбиваем данные на обучающий и тестовый наборы"
      ],
      "metadata": {
        "id": "xle6RrRjFgyJ"
      }
    },
    {
      "cell_type": "code",
      "execution_count": 20,
      "metadata": {
        "id": "aRw4U7Hk1Z6s"
      },
      "outputs": [],
      "source": [
        "X_train, X_test, y_train, y_test = train_test_split(X, y, test_size=0.2, random_state=42)\n"
      ]
    },
    {
      "cell_type": "markdown",
      "source": [
        "#### Проверка обычной регрессии"
      ],
      "metadata": {
        "id": "Cl1GT6q6nJ_1"
      }
    },
    {
      "cell_type": "markdown",
      "source": [
        "Создание и обучение модели"
      ],
      "metadata": {
        "id": "eWKsPyvvZ8QH"
      }
    },
    {
      "cell_type": "code",
      "execution_count": 21,
      "metadata": {
        "colab": {
          "base_uri": "https://localhost:8080/",
          "height": 74
        },
        "outputId": "c1fa9b88-a78b-488d-977c-6d741b3e1713",
        "id": "Ty3dtR4XZ8Qm"
      },
      "outputs": [
        {
          "output_type": "execute_result",
          "data": {
            "text/plain": [
              "LinearRegression()"
            ],
            "text/html": [
              "<style>#sk-container-id-2 {color: black;background-color: white;}#sk-container-id-2 pre{padding: 0;}#sk-container-id-2 div.sk-toggleable {background-color: white;}#sk-container-id-2 label.sk-toggleable__label {cursor: pointer;display: block;width: 100%;margin-bottom: 0;padding: 0.3em;box-sizing: border-box;text-align: center;}#sk-container-id-2 label.sk-toggleable__label-arrow:before {content: \"▸\";float: left;margin-right: 0.25em;color: #696969;}#sk-container-id-2 label.sk-toggleable__label-arrow:hover:before {color: black;}#sk-container-id-2 div.sk-estimator:hover label.sk-toggleable__label-arrow:before {color: black;}#sk-container-id-2 div.sk-toggleable__content {max-height: 0;max-width: 0;overflow: hidden;text-align: left;background-color: #f0f8ff;}#sk-container-id-2 div.sk-toggleable__content pre {margin: 0.2em;color: black;border-radius: 0.25em;background-color: #f0f8ff;}#sk-container-id-2 input.sk-toggleable__control:checked~div.sk-toggleable__content {max-height: 200px;max-width: 100%;overflow: auto;}#sk-container-id-2 input.sk-toggleable__control:checked~label.sk-toggleable__label-arrow:before {content: \"▾\";}#sk-container-id-2 div.sk-estimator input.sk-toggleable__control:checked~label.sk-toggleable__label {background-color: #d4ebff;}#sk-container-id-2 div.sk-label input.sk-toggleable__control:checked~label.sk-toggleable__label {background-color: #d4ebff;}#sk-container-id-2 input.sk-hidden--visually {border: 0;clip: rect(1px 1px 1px 1px);clip: rect(1px, 1px, 1px, 1px);height: 1px;margin: -1px;overflow: hidden;padding: 0;position: absolute;width: 1px;}#sk-container-id-2 div.sk-estimator {font-family: monospace;background-color: #f0f8ff;border: 1px dotted black;border-radius: 0.25em;box-sizing: border-box;margin-bottom: 0.5em;}#sk-container-id-2 div.sk-estimator:hover {background-color: #d4ebff;}#sk-container-id-2 div.sk-parallel-item::after {content: \"\";width: 100%;border-bottom: 1px solid gray;flex-grow: 1;}#sk-container-id-2 div.sk-label:hover label.sk-toggleable__label {background-color: #d4ebff;}#sk-container-id-2 div.sk-serial::before {content: \"\";position: absolute;border-left: 1px solid gray;box-sizing: border-box;top: 0;bottom: 0;left: 50%;z-index: 0;}#sk-container-id-2 div.sk-serial {display: flex;flex-direction: column;align-items: center;background-color: white;padding-right: 0.2em;padding-left: 0.2em;position: relative;}#sk-container-id-2 div.sk-item {position: relative;z-index: 1;}#sk-container-id-2 div.sk-parallel {display: flex;align-items: stretch;justify-content: center;background-color: white;position: relative;}#sk-container-id-2 div.sk-item::before, #sk-container-id-2 div.sk-parallel-item::before {content: \"\";position: absolute;border-left: 1px solid gray;box-sizing: border-box;top: 0;bottom: 0;left: 50%;z-index: -1;}#sk-container-id-2 div.sk-parallel-item {display: flex;flex-direction: column;z-index: 1;position: relative;background-color: white;}#sk-container-id-2 div.sk-parallel-item:first-child::after {align-self: flex-end;width: 50%;}#sk-container-id-2 div.sk-parallel-item:last-child::after {align-self: flex-start;width: 50%;}#sk-container-id-2 div.sk-parallel-item:only-child::after {width: 0;}#sk-container-id-2 div.sk-dashed-wrapped {border: 1px dashed gray;margin: 0 0.4em 0.5em 0.4em;box-sizing: border-box;padding-bottom: 0.4em;background-color: white;}#sk-container-id-2 div.sk-label label {font-family: monospace;font-weight: bold;display: inline-block;line-height: 1.2em;}#sk-container-id-2 div.sk-label-container {text-align: center;}#sk-container-id-2 div.sk-container {/* jupyter's `normalize.less` sets `[hidden] { display: none; }` but bootstrap.min.css set `[hidden] { display: none !important; }` so we also need the `!important` here to be able to override the default hidden behavior on the sphinx rendered scikit-learn.org. See: https://github.com/scikit-learn/scikit-learn/issues/21755 */display: inline-block !important;position: relative;}#sk-container-id-2 div.sk-text-repr-fallback {display: none;}</style><div id=\"sk-container-id-2\" class=\"sk-top-container\"><div class=\"sk-text-repr-fallback\"><pre>LinearRegression()</pre><b>In a Jupyter environment, please rerun this cell to show the HTML representation or trust the notebook. <br />On GitHub, the HTML representation is unable to render, please try loading this page with nbviewer.org.</b></div><div class=\"sk-container\" hidden><div class=\"sk-item\"><div class=\"sk-estimator sk-toggleable\"><input class=\"sk-toggleable__control sk-hidden--visually\" id=\"sk-estimator-id-2\" type=\"checkbox\" checked><label for=\"sk-estimator-id-2\" class=\"sk-toggleable__label sk-toggleable__label-arrow\">LinearRegression</label><div class=\"sk-toggleable__content\"><pre>LinearRegression()</pre></div></div></div></div></div>"
            ]
          },
          "metadata": {},
          "execution_count": 21
        }
      ],
      "source": [
        "\n",
        "regression_linear = LinearRegression()\n",
        "\n",
        "regression_linear.fit(X_train, y_train)"
      ]
    },
    {
      "cell_type": "markdown",
      "source": [
        "Вывод результата"
      ],
      "metadata": {
        "id": "1e8HO8NaZ8Qn"
      }
    },
    {
      "cell_type": "code",
      "source": [
        "regression_linear_pred = regression_linear.predict(X_test)\n",
        "\n",
        "mae = mean_absolute_error(y_test, regression_linear_pred)\n",
        "mse = mean_squared_error(y_test, regression_linear_pred)\n",
        "\n",
        "print(f'MAE: {mae:.5f}')\n",
        "print(f'MSE: {mse:.5f}')\n",
        "print(f'RMSE: {np.sqrt(mse):.5f}')"
      ],
      "metadata": {
        "outputId": "e9031c4c-6f16-46db-a50a-f7ba5c10f73a",
        "colab": {
          "base_uri": "https://localhost:8080/"
        },
        "id": "e-VuRAc-Z8Qn"
      },
      "execution_count": 23,
      "outputs": [
        {
          "output_type": "stream",
          "name": "stdout",
          "text": [
            "MAE: 0.43228\n",
            "MSE: 0.21284\n",
            "RMSE: 0.46135\n"
          ]
        }
      ]
    },
    {
      "cell_type": "markdown",
      "source": [
        "Создание и обучение модели"
      ],
      "metadata": {
        "id": "-WIbg15MrMkm"
      }
    },
    {
      "cell_type": "code",
      "execution_count": 24,
      "metadata": {
        "colab": {
          "base_uri": "https://localhost:8080/",
          "height": 74
        },
        "outputId": "6a1856dd-763d-484b-e3fa-eabfd938e592",
        "id": "X6_lZIf-rMkm"
      },
      "outputs": [
        {
          "output_type": "execute_result",
          "data": {
            "text/plain": [
              "LogisticRegression()"
            ],
            "text/html": [
              "<style>#sk-container-id-3 {color: black;background-color: white;}#sk-container-id-3 pre{padding: 0;}#sk-container-id-3 div.sk-toggleable {background-color: white;}#sk-container-id-3 label.sk-toggleable__label {cursor: pointer;display: block;width: 100%;margin-bottom: 0;padding: 0.3em;box-sizing: border-box;text-align: center;}#sk-container-id-3 label.sk-toggleable__label-arrow:before {content: \"▸\";float: left;margin-right: 0.25em;color: #696969;}#sk-container-id-3 label.sk-toggleable__label-arrow:hover:before {color: black;}#sk-container-id-3 div.sk-estimator:hover label.sk-toggleable__label-arrow:before {color: black;}#sk-container-id-3 div.sk-toggleable__content {max-height: 0;max-width: 0;overflow: hidden;text-align: left;background-color: #f0f8ff;}#sk-container-id-3 div.sk-toggleable__content pre {margin: 0.2em;color: black;border-radius: 0.25em;background-color: #f0f8ff;}#sk-container-id-3 input.sk-toggleable__control:checked~div.sk-toggleable__content {max-height: 200px;max-width: 100%;overflow: auto;}#sk-container-id-3 input.sk-toggleable__control:checked~label.sk-toggleable__label-arrow:before {content: \"▾\";}#sk-container-id-3 div.sk-estimator input.sk-toggleable__control:checked~label.sk-toggleable__label {background-color: #d4ebff;}#sk-container-id-3 div.sk-label input.sk-toggleable__control:checked~label.sk-toggleable__label {background-color: #d4ebff;}#sk-container-id-3 input.sk-hidden--visually {border: 0;clip: rect(1px 1px 1px 1px);clip: rect(1px, 1px, 1px, 1px);height: 1px;margin: -1px;overflow: hidden;padding: 0;position: absolute;width: 1px;}#sk-container-id-3 div.sk-estimator {font-family: monospace;background-color: #f0f8ff;border: 1px dotted black;border-radius: 0.25em;box-sizing: border-box;margin-bottom: 0.5em;}#sk-container-id-3 div.sk-estimator:hover {background-color: #d4ebff;}#sk-container-id-3 div.sk-parallel-item::after {content: \"\";width: 100%;border-bottom: 1px solid gray;flex-grow: 1;}#sk-container-id-3 div.sk-label:hover label.sk-toggleable__label {background-color: #d4ebff;}#sk-container-id-3 div.sk-serial::before {content: \"\";position: absolute;border-left: 1px solid gray;box-sizing: border-box;top: 0;bottom: 0;left: 50%;z-index: 0;}#sk-container-id-3 div.sk-serial {display: flex;flex-direction: column;align-items: center;background-color: white;padding-right: 0.2em;padding-left: 0.2em;position: relative;}#sk-container-id-3 div.sk-item {position: relative;z-index: 1;}#sk-container-id-3 div.sk-parallel {display: flex;align-items: stretch;justify-content: center;background-color: white;position: relative;}#sk-container-id-3 div.sk-item::before, #sk-container-id-3 div.sk-parallel-item::before {content: \"\";position: absolute;border-left: 1px solid gray;box-sizing: border-box;top: 0;bottom: 0;left: 50%;z-index: -1;}#sk-container-id-3 div.sk-parallel-item {display: flex;flex-direction: column;z-index: 1;position: relative;background-color: white;}#sk-container-id-3 div.sk-parallel-item:first-child::after {align-self: flex-end;width: 50%;}#sk-container-id-3 div.sk-parallel-item:last-child::after {align-self: flex-start;width: 50%;}#sk-container-id-3 div.sk-parallel-item:only-child::after {width: 0;}#sk-container-id-3 div.sk-dashed-wrapped {border: 1px dashed gray;margin: 0 0.4em 0.5em 0.4em;box-sizing: border-box;padding-bottom: 0.4em;background-color: white;}#sk-container-id-3 div.sk-label label {font-family: monospace;font-weight: bold;display: inline-block;line-height: 1.2em;}#sk-container-id-3 div.sk-label-container {text-align: center;}#sk-container-id-3 div.sk-container {/* jupyter's `normalize.less` sets `[hidden] { display: none; }` but bootstrap.min.css set `[hidden] { display: none !important; }` so we also need the `!important` here to be able to override the default hidden behavior on the sphinx rendered scikit-learn.org. See: https://github.com/scikit-learn/scikit-learn/issues/21755 */display: inline-block !important;position: relative;}#sk-container-id-3 div.sk-text-repr-fallback {display: none;}</style><div id=\"sk-container-id-3\" class=\"sk-top-container\"><div class=\"sk-text-repr-fallback\"><pre>LogisticRegression()</pre><b>In a Jupyter environment, please rerun this cell to show the HTML representation or trust the notebook. <br />On GitHub, the HTML representation is unable to render, please try loading this page with nbviewer.org.</b></div><div class=\"sk-container\" hidden><div class=\"sk-item\"><div class=\"sk-estimator sk-toggleable\"><input class=\"sk-toggleable__control sk-hidden--visually\" id=\"sk-estimator-id-3\" type=\"checkbox\" checked><label for=\"sk-estimator-id-3\" class=\"sk-toggleable__label sk-toggleable__label-arrow\">LogisticRegression</label><div class=\"sk-toggleable__content\"><pre>LogisticRegression()</pre></div></div></div></div></div>"
            ]
          },
          "metadata": {},
          "execution_count": 24
        }
      ],
      "source": [
        "regression_logistic = LogisticRegression()\n",
        "\n",
        "regression_logistic.fit(X_train, y_train)"
      ]
    },
    {
      "cell_type": "markdown",
      "source": [
        "Вывод результата"
      ],
      "metadata": {
        "id": "MRV4PT34rMkn"
      }
    },
    {
      "cell_type": "code",
      "source": [
        "regression_logistic_pred = regression_logistic.predict(X_test)\n",
        "\n",
        "print(f'Сравнение метрик: \\n{classification_report(y_test, regression_logistic_pred)}\\n')\n",
        "print(f'Матрица ошибок: \\n{confusion_matrix(y_test, regression_logistic_pred)}\\n')"
      ],
      "metadata": {
        "outputId": "c7bd5955-8e80-4526-90ef-89fadbea0bc0",
        "colab": {
          "base_uri": "https://localhost:8080/"
        },
        "id": "pF8Z2_bjrMko"
      },
      "execution_count": 25,
      "outputs": [
        {
          "output_type": "stream",
          "name": "stdout",
          "text": [
            "Сравнение метрик: \n",
            "              precision    recall  f1-score   support\n",
            "\n",
            "       False       0.66      0.98      0.79      5067\n",
            "        True       0.53      0.04      0.07      2640\n",
            "\n",
            "    accuracy                           0.66      7707\n",
            "   macro avg       0.60      0.51      0.43      7707\n",
            "weighted avg       0.62      0.66      0.54      7707\n",
            "\n",
            "\n",
            "Матрица ошибок: \n",
            "[[4978   89]\n",
            " [2538  102]]\n",
            "\n"
          ]
        }
      ]
    }
  ]
}