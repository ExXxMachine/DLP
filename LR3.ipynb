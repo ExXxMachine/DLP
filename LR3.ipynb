{
  "nbformat": 4,
  "nbformat_minor": 0,
  "metadata": {
    "colab": {
      "provenance": []
    },
    "kernelspec": {
      "name": "python3",
      "display_name": "Python 3"
    },
    "language_info": {
      "name": "python"
    }
  },
  "cells": [
    {
      "cell_type": "code",
      "execution_count": 1,
      "metadata": {
        "id": "Zwx8WNrAJR1Y"
      },
      "outputs": [],
      "source": [
        "import pandas as pd\n",
        "import numpy as np\n",
        "from sklearn.model_selection import train_test_split, GridSearchCV\n",
        "from sklearn.preprocessing import LabelEncoder, StandardScaler\n",
        "from sklearn.metrics import accuracy_score, confusion_matrix, classification_report, mean_absolute_error, mean_squared_error\n",
        "from sklearn.linear_model import Ridge, LogisticRegression"
      ]
    },
    {
      "cell_type": "code",
      "source": [
        "from google.colab import drive\n",
        "drive.mount('/content/drive')"
      ],
      "metadata": {
        "colab": {
          "base_uri": "https://localhost:8080/"
        },
        "id": "9PVXc12kJ1OI",
        "outputId": "a7dad29a-35c3-4f1f-919f-99f8482de609"
      },
      "execution_count": 2,
      "outputs": [
        {
          "output_type": "stream",
          "name": "stdout",
          "text": [
            "Mounted at /content/drive\n"
          ]
        }
      ]
    },
    {
      "cell_type": "markdown",
      "source": [
        "## Подключаем датасет"
      ],
      "metadata": {
        "id": "SGQgEG0nJ4cU"
      }
    },
    {
      "cell_type": "code",
      "source": [
        "df = pd.read_csv('/content/drive/MyDrive/cars.csv')\n",
        "print(df.head(5))"
      ],
      "metadata": {
        "colab": {
          "base_uri": "https://localhost:8080/"
        },
        "id": "sDyoc_bGJ9fX",
        "outputId": "f4d655b1-e93d-4cd7-8ef0-2c023038e207"
      },
      "execution_count": 3,
      "outputs": [
        {
          "output_type": "stream",
          "name": "stdout",
          "text": [
            "  manufacturer_name model_name transmission   color  odometer_value  \\\n",
            "0            Subaru    Outback    automatic  silver          190000   \n",
            "1            Subaru    Outback    automatic    blue          290000   \n",
            "2            Subaru   Forester    automatic     red          402000   \n",
            "3            Subaru    Impreza   mechanical    blue           10000   \n",
            "4            Subaru     Legacy    automatic   black          280000   \n",
            "\n",
            "   year_produced engine_fuel  engine_has_gas engine_type  engine_capacity  \\\n",
            "0           2010    gasoline           False    gasoline              2.5   \n",
            "1           2002    gasoline           False    gasoline              3.0   \n",
            "2           2001    gasoline           False    gasoline              2.5   \n",
            "3           1999    gasoline           False    gasoline              3.0   \n",
            "4           2001    gasoline           False    gasoline              2.5   \n",
            "\n",
            "   ... feature_1  feature_2 feature_3 feature_4  feature_5  feature_6  \\\n",
            "0  ...      True       True      True     False       True      False   \n",
            "1  ...      True      False     False      True       True      False   \n",
            "2  ...      True      False     False     False      False      False   \n",
            "3  ...     False      False     False     False      False      False   \n",
            "4  ...      True      False      True      True      False      False   \n",
            "\n",
            "  feature_7  feature_8  feature_9  duration_listed  \n",
            "0      True       True       True               16  \n",
            "1     False      False       True               83  \n",
            "2     False       True       True              151  \n",
            "3     False      False      False               86  \n",
            "4     False      False       True                7  \n",
            "\n",
            "[5 rows x 30 columns]\n"
          ]
        }
      ]
    },
    {
      "cell_type": "markdown",
      "metadata": {
        "id": "CIFOM8eI1Z6b"
      },
      "source": [
        "### Удаление ненужных и пустых столбцов"
      ]
    },
    {
      "cell_type": "code",
      "execution_count": 4,
      "metadata": {
        "colab": {
          "base_uri": "https://localhost:8080/"
        },
        "id": "Y4HJ0kdn1Z6o",
        "outputId": "e9ba27e2-df51-48fb-914a-9bacb52788db"
      },
      "outputs": [
        {
          "output_type": "stream",
          "name": "stdout",
          "text": [
            "   odometer_value  year_produced  has_warranty  price_usd  is_exchangeable  \\\n",
            "0          190000           2010         False   10900.00            False   \n",
            "1          290000           2002         False    5000.00             True   \n",
            "2          402000           2001         False    2800.00             True   \n",
            "3           10000           1999         False    9999.00             True   \n",
            "4          280000           2001         False    2134.11             True   \n",
            "\n",
            "   number_of_photos  up_counter  \n",
            "0                 9          13  \n",
            "1                12          54  \n",
            "2                 4          72  \n",
            "3                 9          42  \n",
            "4                14           7  \n"
          ]
        }
      ],
      "source": [
        "columns_to_drop = ['engine_has_gas','body_type','state','drivetrain','color','model_name','engine_fuel','manufacturer_name','engine_capacity','location_region','transmission','engine_type','feature_0','feature_1', 'feature_2', 'feature_3', 'feature_4', 'feature_5', 'feature_6', 'feature_7', 'feature_8', 'feature_9', 'duration_listed']\n",
        "df = df.drop(columns=columns_to_drop, axis=1)\n",
        "df.dropna(inplace=True)\n",
        "\n",
        "print(df.head(5))"
      ]
    },
    {
      "cell_type": "markdown",
      "metadata": {
        "id": "PV2MmnAw1Z6q"
      },
      "source": [
        "### Кодирование текстовых значений"
      ]
    },
    {
      "cell_type": "code",
      "execution_count": 5,
      "metadata": {
        "colab": {
          "base_uri": "https://localhost:8080/"
        },
        "id": "LBg-xw5k1Z6q",
        "outputId": "d124b5c8-4a78-46cf-f5c6-acb1e685b1e9"
      },
      "outputs": [
        {
          "output_type": "stream",
          "name": "stdout",
          "text": [
            "   odometer_value  year_produced  has_warranty  price_usd  is_exchangeable  \\\n",
            "0          190000           2010         False   10900.00            False   \n",
            "1          290000           2002         False    5000.00             True   \n",
            "2          402000           2001         False    2800.00             True   \n",
            "3           10000           1999         False    9999.00             True   \n",
            "4          280000           2001         False    2134.11             True   \n",
            "\n",
            "   number_of_photos  up_counter  \n",
            "0                 9          13  \n",
            "1                12          54  \n",
            "2                 4          72  \n",
            "3                 9          42  \n",
            "4                14           7  \n"
          ]
        }
      ],
      "source": [
        "label_encoders = {}\n",
        "for column in df.select_dtypes(include=['object']).columns:\n",
        "    label_encoders[column] = LabelEncoder()\n",
        "    df[column] = label_encoders[column].fit_transform(df[column])\n",
        "\n",
        "print(df.head(5))"
      ]
    },
    {
      "cell_type": "markdown",
      "source": [
        "Предполагаем, что столбец is_exchangeable - это метки классов"
      ],
      "metadata": {
        "id": "zw18VfQTFKi2"
      }
    },
    {
      "cell_type": "code",
      "execution_count": 6,
      "metadata": {
        "id": "Toywe46Y1Z6r"
      },
      "outputs": [],
      "source": [
        "X = df.drop(columns=['is_exchangeable'])\n",
        "y = df['is_exchangeable']"
      ]
    },
    {
      "cell_type": "markdown",
      "source": [
        "Разбиваем данные на обучающий и тестовый наборы"
      ],
      "metadata": {
        "id": "xle6RrRjFgyJ"
      }
    },
    {
      "cell_type": "code",
      "execution_count": 7,
      "metadata": {
        "id": "aRw4U7Hk1Z6s"
      },
      "outputs": [],
      "source": [
        "X_train, X_test, y_train, y_test = train_test_split(X, y, test_size=0.2, random_state=42)\n"
      ]
    },
    {
      "cell_type": "markdown",
      "source": [
        "### Стандартизация данных"
      ],
      "metadata": {
        "id": "1lqBi2XpHf6t"
      }
    },
    {
      "cell_type": "code",
      "source": [
        "scaler = StandardScaler()\n",
        "X_train = scaler.fit_transform(X_train)\n",
        "X_test = scaler.transform(X_test)"
      ],
      "metadata": {
        "id": "Gp94WS32HlVb"
      },
      "execution_count": 8,
      "outputs": []
    },
    {
      "cell_type": "markdown",
      "source": [
        "### Параметры для GridSearchCV"
      ],
      "metadata": {
        "id": "eWKsPyvvZ8QH"
      }
    },
    {
      "cell_type": "code",
      "execution_count": 9,
      "metadata": {
        "id": "Ty3dtR4XZ8Qm"
      },
      "outputs": [],
      "source": [
        "param_grid_ridge = {\n",
        "    'alpha': [0.1, 1.0, 10.0, 100.0, 1000.0]\n",
        "}\n",
        "param_grid_logistic = {\n",
        "    'C': [0.01, 0.1, 1, 10, 100],\n",
        "    'max_iter': [100, 200, 300]\n",
        "}"
      ]
    },
    {
      "cell_type": "markdown",
      "source": [
        "### GridSearchCV для Ridge"
      ],
      "metadata": {
        "id": "1e8HO8NaZ8Qn"
      }
    },
    {
      "cell_type": "code",
      "source": [
        "ridge = Ridge()\n",
        "grid_search_ridge = GridSearchCV(ridge, param_grid_ridge, cv=5, n_jobs=-1, verbose=2)\n",
        "grid_search_ridge.fit(X_train, y_train)\n",
        "print(\"Лучшие параметры для Ridge: \", grid_search_ridge.best_params_)\n"
      ],
      "metadata": {
        "outputId": "e17747de-50f8-46ad-f5f9-8bfece9614b0",
        "colab": {
          "base_uri": "https://localhost:8080/"
        },
        "id": "e-VuRAc-Z8Qn"
      },
      "execution_count": 10,
      "outputs": [
        {
          "output_type": "stream",
          "name": "stdout",
          "text": [
            "Fitting 5 folds for each of 5 candidates, totalling 25 fits\n",
            "Лучшие параметры для Ridge:  {'alpha': 100.0}\n"
          ]
        }
      ]
    },
    {
      "cell_type": "markdown",
      "source": [
        "###  Предсказания и метрики для Ridge"
      ],
      "metadata": {
        "id": "-WIbg15MrMkm"
      }
    },
    {
      "cell_type": "code",
      "execution_count": 11,
      "metadata": {
        "colab": {
          "base_uri": "https://localhost:8080/"
        },
        "outputId": "c3898cdc-53a0-4842-eba0-debdfb424c6d",
        "id": "X6_lZIf-rMkm"
      },
      "outputs": [
        {
          "output_type": "stream",
          "name": "stdout",
          "text": [
            "Ridge MAE: 0.43236\n",
            "Ridge MSE: 0.21285\n",
            "Ridge RMSE: 0.46136\n"
          ]
        }
      ],
      "source": [
        "best_ridge = grid_search_ridge.best_estimator_\n",
        "ridge_pred = best_ridge.predict(X_test)\n",
        "mae = mean_absolute_error(y_test, ridge_pred)\n",
        "mse = mean_squared_error(y_test, ridge_pred)\n",
        "print(f'Ridge MAE: {mae:.5f}')\n",
        "print(f'Ridge MSE: {mse:.5f}')\n",
        "print(f'Ridge RMSE: {np.sqrt(mse):.5f}')\n"
      ]
    },
    {
      "cell_type": "markdown",
      "source": [
        "### GridSearchCV для LogisticRegression\n"
      ],
      "metadata": {
        "id": "MRV4PT34rMkn"
      }
    },
    {
      "cell_type": "code",
      "source": [
        "logistic = LogisticRegression()\n",
        "grid_search_logistic = GridSearchCV(logistic, param_grid_logistic, cv=5, n_jobs=-1, verbose=2)\n",
        "grid_search_logistic.fit(X_train, y_train)\n",
        "print(\"Лучшие параметры для LogisticRegression: \", grid_search_logistic.best_params_)\n"
      ],
      "metadata": {
        "outputId": "5f457506-b2f0-4baf-b87f-f6ac8cb0e825",
        "colab": {
          "base_uri": "https://localhost:8080/"
        },
        "id": "pF8Z2_bjrMko"
      },
      "execution_count": 12,
      "outputs": [
        {
          "output_type": "stream",
          "name": "stdout",
          "text": [
            "Fitting 5 folds for each of 15 candidates, totalling 75 fits\n",
            "Лучшие параметры для LogisticRegression:  {'C': 0.01, 'max_iter': 100}\n"
          ]
        }
      ]
    },
    {
      "cell_type": "markdown",
      "source": [
        "### Предсказания и метрики для LogisticRegression"
      ],
      "metadata": {
        "id": "ch8Rzm5dIJpb"
      }
    },
    {
      "cell_type": "code",
      "source": [
        "best_logistic = grid_search_logistic.best_estimator_\n",
        "logistic_pred = best_logistic.predict(X_test)\n",
        "print(f'Сравнение метрик для LogisticRegression: \\n{classification_report(y_test, logistic_pred)}\\n')\n",
        "print(f'Матрица ошибок для LogisticRegression: \\n{confusion_matrix(y_test, logistic_pred)}\\n')"
      ],
      "metadata": {
        "colab": {
          "base_uri": "https://localhost:8080/"
        },
        "id": "Q7sfAdUAININ",
        "outputId": "8ba7c639-3212-461c-d96c-001e984684c9"
      },
      "execution_count": 13,
      "outputs": [
        {
          "output_type": "stream",
          "name": "stdout",
          "text": [
            "Сравнение метрик для LogisticRegression: \n",
            "              precision    recall  f1-score   support\n",
            "\n",
            "       False       0.67      0.97      0.79      5067\n",
            "        True       0.60      0.10      0.17      2640\n",
            "\n",
            "    accuracy                           0.67      7707\n",
            "   macro avg       0.64      0.53      0.48      7707\n",
            "weighted avg       0.65      0.67      0.58      7707\n",
            "\n",
            "\n",
            "Матрица ошибок для LogisticRegression: \n",
            "[[4890  177]\n",
            " [2375  265]]\n",
            "\n"
          ]
        }
      ]
    }
  ]
}