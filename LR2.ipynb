{
  "cells": [
    {
      "cell_type": "code",
      "execution_count": 1,
      "metadata": {
        "id": "TlOA_CGf1Z6X"
      },
      "outputs": [],
      "source": [
        "import pandas as pd\n",
        "from sklearn.model_selection import train_test_split, GridSearchCV\n",
        "from sklearn.preprocessing import LabelEncoder, StandardScaler\n",
        "from sklearn.linear_model import SGDClassifier\n",
        "from sklearn.svm import LinearSVC\n",
        "from sklearn.metrics import classification_report, accuracy_score, confusion_matrix\n",
        "import time"
      ]
    },
    {
      "cell_type": "code",
      "execution_count": 2,
      "metadata": {
        "colab": {
          "base_uri": "https://localhost:8080/"
        },
        "id": "lk6zR4iI1Z6a",
        "outputId": "8baef8b7-a7bb-4501-9cb4-441002dc7236"
      },
      "outputs": [
        {
          "output_type": "stream",
          "name": "stdout",
          "text": [
            "Mounted at /content/drive\n"
          ]
        }
      ],
      "source": [
        "from google.colab import drive\n",
        "drive.mount('/content/drive')"
      ]
    },
    {
      "cell_type": "markdown",
      "source": [
        "### Подключаем датасет"
      ],
      "metadata": {
        "id": "DT8-7dtrE6Mw"
      }
    },
    {
      "cell_type": "code",
      "source": [
        "df = pd.read_csv('/content/drive/MyDrive/cars.csv')\n",
        "print(df.head(5))"
      ],
      "metadata": {
        "colab": {
          "base_uri": "https://localhost:8080/"
        },
        "id": "O6HN5YF91n5n",
        "outputId": "739f5775-e196-46b1-8ce7-08365775b726"
      },
      "execution_count": 3,
      "outputs": [
        {
          "output_type": "stream",
          "name": "stdout",
          "text": [
            "  manufacturer_name model_name transmission   color  odometer_value  \\\n",
            "0            Subaru    Outback    automatic  silver          190000   \n",
            "1            Subaru    Outback    automatic    blue          290000   \n",
            "2            Subaru   Forester    automatic     red          402000   \n",
            "3            Subaru    Impreza   mechanical    blue           10000   \n",
            "4            Subaru     Legacy    automatic   black          280000   \n",
            "\n",
            "   year_produced engine_fuel  engine_has_gas engine_type  engine_capacity  \\\n",
            "0           2010    gasoline           False    gasoline              2.5   \n",
            "1           2002    gasoline           False    gasoline              3.0   \n",
            "2           2001    gasoline           False    gasoline              2.5   \n",
            "3           1999    gasoline           False    gasoline              3.0   \n",
            "4           2001    gasoline           False    gasoline              2.5   \n",
            "\n",
            "   ... feature_1  feature_2 feature_3 feature_4  feature_5  feature_6  \\\n",
            "0  ...      True       True      True     False       True      False   \n",
            "1  ...      True      False     False      True       True      False   \n",
            "2  ...      True      False     False     False      False      False   \n",
            "3  ...     False      False     False     False      False      False   \n",
            "4  ...      True      False      True      True      False      False   \n",
            "\n",
            "  feature_7  feature_8  feature_9  duration_listed  \n",
            "0      True       True       True               16  \n",
            "1     False      False       True               83  \n",
            "2     False       True       True              151  \n",
            "3     False      False      False               86  \n",
            "4     False      False       True                7  \n",
            "\n",
            "[5 rows x 30 columns]\n"
          ]
        }
      ]
    },
    {
      "cell_type": "markdown",
      "metadata": {
        "id": "CIFOM8eI1Z6b"
      },
      "source": [
        "### Удаление ненужных и пустых столбцов"
      ]
    },
    {
      "cell_type": "code",
      "execution_count": 4,
      "metadata": {
        "colab": {
          "base_uri": "https://localhost:8080/"
        },
        "id": "Y4HJ0kdn1Z6o",
        "outputId": "179eca8e-f7ad-4af2-f5e9-b591f716e1a7"
      },
      "outputs": [
        {
          "output_type": "stream",
          "name": "stdout",
          "text": [
            "   odometer_value  year_produced  has_warranty  price_usd  is_exchangeable  \\\n",
            "0          190000           2010         False   10900.00            False   \n",
            "1          290000           2002         False    5000.00             True   \n",
            "2          402000           2001         False    2800.00             True   \n",
            "3           10000           1999         False    9999.00             True   \n",
            "4          280000           2001         False    2134.11             True   \n",
            "\n",
            "   number_of_photos  up_counter  \n",
            "0                 9          13  \n",
            "1                12          54  \n",
            "2                 4          72  \n",
            "3                 9          42  \n",
            "4                14           7  \n"
          ]
        }
      ],
      "source": [
        "columns_to_drop = ['engine_has_gas','body_type','state','drivetrain','color','model_name','engine_fuel','manufacturer_name','engine_capacity','location_region','transmission','engine_type','feature_0','feature_1', 'feature_2', 'feature_3', 'feature_4', 'feature_5', 'feature_6', 'feature_7', 'feature_8', 'feature_9', 'duration_listed']\n",
        "df = df.drop(columns=columns_to_drop, axis=1)\n",
        "df.dropna(inplace=True)\n",
        "\n",
        "print(df.head(5))"
      ]
    },
    {
      "cell_type": "markdown",
      "metadata": {
        "id": "PV2MmnAw1Z6q"
      },
      "source": [
        "### Кодирование текстовых значений"
      ]
    },
    {
      "cell_type": "code",
      "execution_count": 5,
      "metadata": {
        "colab": {
          "base_uri": "https://localhost:8080/"
        },
        "id": "LBg-xw5k1Z6q",
        "outputId": "d1b6cd22-b8ae-4e66-8c31-eb9bcb4e56b4"
      },
      "outputs": [
        {
          "output_type": "stream",
          "name": "stdout",
          "text": [
            "   odometer_value  year_produced  has_warranty  price_usd  is_exchangeable  \\\n",
            "0          190000           2010         False   10900.00            False   \n",
            "1          290000           2002         False    5000.00             True   \n",
            "2          402000           2001         False    2800.00             True   \n",
            "3           10000           1999         False    9999.00             True   \n",
            "4          280000           2001         False    2134.11             True   \n",
            "\n",
            "   number_of_photos  up_counter  \n",
            "0                 9          13  \n",
            "1                12          54  \n",
            "2                 4          72  \n",
            "3                 9          42  \n",
            "4                14           7  \n"
          ]
        }
      ],
      "source": [
        "label_encoders = {}\n",
        "for column in df.select_dtypes(include=['object']).columns:\n",
        "    label_encoders[column] = LabelEncoder()\n",
        "    df[column] = label_encoders[column].fit_transform(df[column])\n",
        "\n",
        "print(df.head(5))"
      ]
    },
    {
      "cell_type": "markdown",
      "source": [
        "Предполагаем, что столбец is_exchangeable - это метки классов"
      ],
      "metadata": {
        "id": "zw18VfQTFKi2"
      }
    },
    {
      "cell_type": "code",
      "execution_count": 6,
      "metadata": {
        "id": "Toywe46Y1Z6r"
      },
      "outputs": [],
      "source": [
        "X = df.drop(columns=['is_exchangeable'])\n",
        "y = df['is_exchangeable']"
      ]
    },
    {
      "cell_type": "markdown",
      "source": [
        "Разбиваем данные на обучающий и тестовый наборы"
      ],
      "metadata": {
        "id": "xle6RrRjFgyJ"
      }
    },
    {
      "cell_type": "code",
      "execution_count": 7,
      "metadata": {
        "id": "aRw4U7Hk1Z6s"
      },
      "outputs": [],
      "source": [
        "X_train, X_test, y_train, y_test = train_test_split(X, y, test_size=0.2, random_state=42)\n"
      ]
    },
    {
      "cell_type": "markdown",
      "source": [
        "### Стандартизация данных"
      ],
      "metadata": {
        "id": "4_TIjV4GFQ9x"
      }
    },
    {
      "cell_type": "code",
      "source": [
        "scaler = StandardScaler()\n",
        "X_train = scaler.fit_transform(X_train)\n",
        "X_test = scaler.transform(X_test)"
      ],
      "metadata": {
        "id": "RpeR0KYKFXBE"
      },
      "execution_count": 8,
      "outputs": []
    },
    {
      "cell_type": "markdown",
      "source": [
        "### Обучение модели SGDClassifier"
      ],
      "metadata": {
        "id": "F72m8SQWFaj9"
      }
    },
    {
      "cell_type": "code",
      "execution_count": 10,
      "metadata": {
        "id": "E-hCk2ZC1Z6t",
        "colab": {
          "base_uri": "https://localhost:8080/",
          "height": 134
        },
        "outputId": "7cb462d7-7f20-4c29-900c-ca2d5e0c406d"
      },
      "outputs": [
        {
          "output_type": "stream",
          "name": "stdout",
          "text": [
            "Fitting 5 folds for each of 2160 candidates, totalling 10800 fits\n"
          ]
        },
        {
          "output_type": "execute_result",
          "data": {
            "text/plain": [
              "GridSearchCV(cv=5, estimator=SGDClassifier(random_state=42), n_jobs=-1,\n",
              "             param_grid={'alpha': [0.0001, 0.001, 0.01],\n",
              "                         'eta0': [0.001, 0.01, 0.1, 1],\n",
              "                         'learning_rate': ['constant', 'optimal', 'invscaling',\n",
              "                                           'adaptive'],\n",
              "                         'loss': ['hinge', 'log', 'modified_huber',\n",
              "                                  'squared_hinge', 'perceptron'],\n",
              "                         'max_iter': [1000, 2000, 3000],\n",
              "                         'penalty': ['l2', 'l1', 'elasticnet']},\n",
              "             verbose=2)"
            ],
            "text/html": [
              "<style>#sk-container-id-1 {color: black;background-color: white;}#sk-container-id-1 pre{padding: 0;}#sk-container-id-1 div.sk-toggleable {background-color: white;}#sk-container-id-1 label.sk-toggleable__label {cursor: pointer;display: block;width: 100%;margin-bottom: 0;padding: 0.3em;box-sizing: border-box;text-align: center;}#sk-container-id-1 label.sk-toggleable__label-arrow:before {content: \"▸\";float: left;margin-right: 0.25em;color: #696969;}#sk-container-id-1 label.sk-toggleable__label-arrow:hover:before {color: black;}#sk-container-id-1 div.sk-estimator:hover label.sk-toggleable__label-arrow:before {color: black;}#sk-container-id-1 div.sk-toggleable__content {max-height: 0;max-width: 0;overflow: hidden;text-align: left;background-color: #f0f8ff;}#sk-container-id-1 div.sk-toggleable__content pre {margin: 0.2em;color: black;border-radius: 0.25em;background-color: #f0f8ff;}#sk-container-id-1 input.sk-toggleable__control:checked~div.sk-toggleable__content {max-height: 200px;max-width: 100%;overflow: auto;}#sk-container-id-1 input.sk-toggleable__control:checked~label.sk-toggleable__label-arrow:before {content: \"▾\";}#sk-container-id-1 div.sk-estimator input.sk-toggleable__control:checked~label.sk-toggleable__label {background-color: #d4ebff;}#sk-container-id-1 div.sk-label input.sk-toggleable__control:checked~label.sk-toggleable__label {background-color: #d4ebff;}#sk-container-id-1 input.sk-hidden--visually {border: 0;clip: rect(1px 1px 1px 1px);clip: rect(1px, 1px, 1px, 1px);height: 1px;margin: -1px;overflow: hidden;padding: 0;position: absolute;width: 1px;}#sk-container-id-1 div.sk-estimator {font-family: monospace;background-color: #f0f8ff;border: 1px dotted black;border-radius: 0.25em;box-sizing: border-box;margin-bottom: 0.5em;}#sk-container-id-1 div.sk-estimator:hover {background-color: #d4ebff;}#sk-container-id-1 div.sk-parallel-item::after {content: \"\";width: 100%;border-bottom: 1px solid gray;flex-grow: 1;}#sk-container-id-1 div.sk-label:hover label.sk-toggleable__label {background-color: #d4ebff;}#sk-container-id-1 div.sk-serial::before {content: \"\";position: absolute;border-left: 1px solid gray;box-sizing: border-box;top: 0;bottom: 0;left: 50%;z-index: 0;}#sk-container-id-1 div.sk-serial {display: flex;flex-direction: column;align-items: center;background-color: white;padding-right: 0.2em;padding-left: 0.2em;position: relative;}#sk-container-id-1 div.sk-item {position: relative;z-index: 1;}#sk-container-id-1 div.sk-parallel {display: flex;align-items: stretch;justify-content: center;background-color: white;position: relative;}#sk-container-id-1 div.sk-item::before, #sk-container-id-1 div.sk-parallel-item::before {content: \"\";position: absolute;border-left: 1px solid gray;box-sizing: border-box;top: 0;bottom: 0;left: 50%;z-index: -1;}#sk-container-id-1 div.sk-parallel-item {display: flex;flex-direction: column;z-index: 1;position: relative;background-color: white;}#sk-container-id-1 div.sk-parallel-item:first-child::after {align-self: flex-end;width: 50%;}#sk-container-id-1 div.sk-parallel-item:last-child::after {align-self: flex-start;width: 50%;}#sk-container-id-1 div.sk-parallel-item:only-child::after {width: 0;}#sk-container-id-1 div.sk-dashed-wrapped {border: 1px dashed gray;margin: 0 0.4em 0.5em 0.4em;box-sizing: border-box;padding-bottom: 0.4em;background-color: white;}#sk-container-id-1 div.sk-label label {font-family: monospace;font-weight: bold;display: inline-block;line-height: 1.2em;}#sk-container-id-1 div.sk-label-container {text-align: center;}#sk-container-id-1 div.sk-container {/* jupyter's `normalize.less` sets `[hidden] { display: none; }` but bootstrap.min.css set `[hidden] { display: none !important; }` so we also need the `!important` here to be able to override the default hidden behavior on the sphinx rendered scikit-learn.org. See: https://github.com/scikit-learn/scikit-learn/issues/21755 */display: inline-block !important;position: relative;}#sk-container-id-1 div.sk-text-repr-fallback {display: none;}</style><div id=\"sk-container-id-1\" class=\"sk-top-container\"><div class=\"sk-text-repr-fallback\"><pre>GridSearchCV(cv=5, estimator=SGDClassifier(random_state=42), n_jobs=-1,\n",
              "             param_grid={&#x27;alpha&#x27;: [0.0001, 0.001, 0.01],\n",
              "                         &#x27;eta0&#x27;: [0.001, 0.01, 0.1, 1],\n",
              "                         &#x27;learning_rate&#x27;: [&#x27;constant&#x27;, &#x27;optimal&#x27;, &#x27;invscaling&#x27;,\n",
              "                                           &#x27;adaptive&#x27;],\n",
              "                         &#x27;loss&#x27;: [&#x27;hinge&#x27;, &#x27;log&#x27;, &#x27;modified_huber&#x27;,\n",
              "                                  &#x27;squared_hinge&#x27;, &#x27;perceptron&#x27;],\n",
              "                         &#x27;max_iter&#x27;: [1000, 2000, 3000],\n",
              "                         &#x27;penalty&#x27;: [&#x27;l2&#x27;, &#x27;l1&#x27;, &#x27;elasticnet&#x27;]},\n",
              "             verbose=2)</pre><b>In a Jupyter environment, please rerun this cell to show the HTML representation or trust the notebook. <br />On GitHub, the HTML representation is unable to render, please try loading this page with nbviewer.org.</b></div><div class=\"sk-container\" hidden><div class=\"sk-item sk-dashed-wrapped\"><div class=\"sk-label-container\"><div class=\"sk-label sk-toggleable\"><input class=\"sk-toggleable__control sk-hidden--visually\" id=\"sk-estimator-id-1\" type=\"checkbox\" ><label for=\"sk-estimator-id-1\" class=\"sk-toggleable__label sk-toggleable__label-arrow\">GridSearchCV</label><div class=\"sk-toggleable__content\"><pre>GridSearchCV(cv=5, estimator=SGDClassifier(random_state=42), n_jobs=-1,\n",
              "             param_grid={&#x27;alpha&#x27;: [0.0001, 0.001, 0.01],\n",
              "                         &#x27;eta0&#x27;: [0.001, 0.01, 0.1, 1],\n",
              "                         &#x27;learning_rate&#x27;: [&#x27;constant&#x27;, &#x27;optimal&#x27;, &#x27;invscaling&#x27;,\n",
              "                                           &#x27;adaptive&#x27;],\n",
              "                         &#x27;loss&#x27;: [&#x27;hinge&#x27;, &#x27;log&#x27;, &#x27;modified_huber&#x27;,\n",
              "                                  &#x27;squared_hinge&#x27;, &#x27;perceptron&#x27;],\n",
              "                         &#x27;max_iter&#x27;: [1000, 2000, 3000],\n",
              "                         &#x27;penalty&#x27;: [&#x27;l2&#x27;, &#x27;l1&#x27;, &#x27;elasticnet&#x27;]},\n",
              "             verbose=2)</pre></div></div></div><div class=\"sk-parallel\"><div class=\"sk-parallel-item\"><div class=\"sk-item\"><div class=\"sk-label-container\"><div class=\"sk-label sk-toggleable\"><input class=\"sk-toggleable__control sk-hidden--visually\" id=\"sk-estimator-id-2\" type=\"checkbox\" ><label for=\"sk-estimator-id-2\" class=\"sk-toggleable__label sk-toggleable__label-arrow\">estimator: SGDClassifier</label><div class=\"sk-toggleable__content\"><pre>SGDClassifier(random_state=42)</pre></div></div></div><div class=\"sk-serial\"><div class=\"sk-item\"><div class=\"sk-estimator sk-toggleable\"><input class=\"sk-toggleable__control sk-hidden--visually\" id=\"sk-estimator-id-3\" type=\"checkbox\" ><label for=\"sk-estimator-id-3\" class=\"sk-toggleable__label sk-toggleable__label-arrow\">SGDClassifier</label><div class=\"sk-toggleable__content\"><pre>SGDClassifier(random_state=42)</pre></div></div></div></div></div></div></div></div></div></div>"
            ]
          },
          "metadata": {},
          "execution_count": 10
        }
      ],
      "source": [
        "param_grid_sgdc = {\n",
        "    'loss': ['hinge', 'log', 'modified_huber', 'squared_hinge', 'perceptron'],\n",
        "    'penalty': ['l2', 'l1', 'elasticnet'],\n",
        "    'alpha': [0.0001, 0.001, 0.01],\n",
        "    'max_iter': [1000, 2000, 3000],\n",
        "    'learning_rate': ['constant', 'optimal', 'invscaling', 'adaptive'],\n",
        "    'eta0': [0.001, 0.01, 0.1, 1]\n",
        "}\n",
        "base_sgdc = SGDClassifier(random_state=42)\n",
        "\n",
        "# Настройка GridSearchCV\n",
        "grid_search_sgdc = GridSearchCV(base_sgdc, param_grid_sgdc, cv=5, n_jobs=-1, verbose=2)\n",
        "grid_search_sgdc.fit(X_train, y_train)\n"
      ]
    },
    {
      "cell_type": "code",
      "source": [
        "best_sgdc = grid_search_sgdc.best_estimator_\n",
        "svm_sgdc_pred = best_sgdc.predict(X_test)"
      ],
      "metadata": {
        "id": "0LnQqy6S8t5h"
      },
      "execution_count": 11,
      "outputs": []
    },
    {
      "cell_type": "code",
      "execution_count": 12,
      "metadata": {
        "colab": {
          "base_uri": "https://localhost:8080/"
        },
        "id": "xCPgWzyc1Z6t",
        "outputId": "83cfb58d-5189-4255-960e-f2dcb4c63207"
      },
      "outputs": [
        {
          "output_type": "stream",
          "name": "stdout",
          "text": [
            "Лучшие параметры для SGDClassifier: {'alpha': 0.0001, 'eta0': 0.001, 'learning_rate': 'optimal', 'loss': 'squared_hinge', 'max_iter': 1000, 'penalty': 'elasticnet'}\n",
            "\n",
            "Сравнение метрик для SGDClassifier: \n",
            "              precision    recall  f1-score   support\n",
            "\n",
            "       False       0.69      0.93      0.79      5067\n",
            "        True       0.58      0.18      0.27      2640\n",
            "\n",
            "    accuracy                           0.67      7707\n",
            "   macro avg       0.63      0.56      0.53      7707\n",
            "weighted avg       0.65      0.67      0.61      7707\n",
            "\n",
            "\n",
            "Матрица ошибок для SGDClassifier: \n",
            "[[4730  337]\n",
            " [2169  471]]\n",
            "\n"
          ]
        }
      ],
      "source": [
        "print(f\"Лучшие параметры для SGDClassifier: {grid_search_sgdc.best_params_}\\n\")\n",
        "print(f'Сравнение метрик для SGDClassifier: \\n{classification_report(y_test, svm_sgdc_pred)}\\n')\n",
        "print(f'Матрица ошибок для SGDClassifier: \\n{confusion_matrix(y_test, svm_sgdc_pred)}\\n')"
      ]
    },
    {
      "cell_type": "markdown",
      "source": [
        "### Обучение модели LinearSVC с подбором гиперпараметров"
      ],
      "metadata": {
        "id": "3EoCeS9oFkwV"
      }
    },
    {
      "cell_type": "code",
      "source": [
        "param_grid = {\n",
        "    'C': [0.01, 0.1, 1, 10, 100],\n",
        "    'max_iter': [1000, 2000, 3000]\n",
        "}\n",
        "\n",
        "grid_search = GridSearchCV(LinearSVC(), param_grid, cv=5, n_jobs=-1, verbose=2)\n",
        "start_time = time.time()\n",
        "grid_search.fit(X_train, y_train)\n",
        "end_time = time.time()\n",
        "\n",
        "print(f\"GridSearchCV took {end_time - start_time:.2f} seconds\")\n",
        "print(\"Best parameters found:\", grid_search.best_params_)"
      ],
      "metadata": {
        "colab": {
          "base_uri": "https://localhost:8080/"
        },
        "id": "8XwoAGGDFoSY",
        "outputId": "2e9ada10-b98d-4843-dfdd-980d1e47cd3c"
      },
      "execution_count": null,
      "outputs": [
        {
          "output_type": "stream",
          "name": "stdout",
          "text": [
            "Fitting 5 folds for each of 15 candidates, totalling 75 fits\n",
            "GridSearchCV took 236.97 seconds\n",
            "Best parameters found: {'C': 100, 'max_iter': 3000}\n"
          ]
        },
        {
          "output_type": "stream",
          "name": "stderr",
          "text": [
            "/usr/local/lib/python3.10/dist-packages/sklearn/svm/_base.py:1244: ConvergenceWarning: Liblinear failed to converge, increase the number of iterations.\n",
            "  warnings.warn(\n"
          ]
        }
      ]
    },
    {
      "cell_type": "markdown",
      "source": [
        "### Предсказываем результат на тестовой выборке с лучшими параметрами"
      ],
      "metadata": {
        "id": "9fFnlX_rFyaN"
      }
    },
    {
      "cell_type": "code",
      "execution_count": null,
      "metadata": {
        "id": "AMyMR1Ex1Z6t"
      },
      "outputs": [],
      "source": [
        "best_svc = grid_search.best_estimator_\n",
        "svc_pred = best_svc.predict(X_test)"
      ]
    },
    {
      "cell_type": "code",
      "execution_count": null,
      "metadata": {
        "colab": {
          "base_uri": "https://localhost:8080/"
        },
        "id": "dkbRKhva1Z6u",
        "outputId": "b7398ca8-21d0-40df-feef-7901ff263005"
      },
      "outputs": [
        {
          "output_type": "stream",
          "name": "stdout",
          "text": [
            "Сравнение метрик для LinearSVC: \n",
            "              precision    recall  f1-score   support\n",
            "\n",
            "       False       0.68      0.95      0.79      5067\n",
            "        True       0.61      0.14      0.22      2640\n",
            "\n",
            "    accuracy                           0.67      7707\n",
            "   macro avg       0.64      0.54      0.51      7707\n",
            "weighted avg       0.65      0.67      0.60      7707\n",
            "\n",
            "\n",
            "Матрица ошибок для LinearSVC: \n",
            "[[4835  232]\n",
            " [2282  358]]\n",
            "\n"
          ]
        }
      ],
      "source": [
        "print(f'Сравнение метрик для LinearSVC: \\n{classification_report(y_test, svc_pred)}\\n')\n",
        "print(f'Матрица ошибок для LinearSVC: \\n{confusion_matrix(y_test, svc_pred)}\\n')"
      ]
    }
  ],
  "metadata": {
    "kernelspec": {
      "display_name": "base",
      "language": "python",
      "name": "python3"
    },
    "language_info": {
      "codemirror_mode": {
        "name": "ipython",
        "version": 3
      },
      "file_extension": ".py",
      "mimetype": "text/x-python",
      "name": "python",
      "nbconvert_exporter": "python",
      "pygments_lexer": "ipython3",
      "version": "3.11.5"
    },
    "colab": {
      "provenance": []
    }
  },
  "nbformat": 4,
  "nbformat_minor": 0
}