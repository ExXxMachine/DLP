{
  "cells": [
    {
      "cell_type": "markdown",
      "id": "33a0a923",
      "metadata": {
        "id": "33a0a923"
      },
      "source": [
        "# Лабороторная работа 1"
      ]
    },
    {
      "cell_type": "markdown",
      "id": "50272b7e",
      "metadata": {
        "id": "50272b7e"
      },
      "source": [
        "## Задание 1"
      ]
    },
    {
      "cell_type": "markdown",
      "id": "6600b833",
      "metadata": {
        "id": "6600b833"
      },
      "source": [
        "Найти набор данных (датасет) для классификации удовлетворяющий следующим условиям: более 10 000 строк, более 20 столбцов, разные типы в столбцах, обязательно наличие целевого признака (таргета)."
      ]
    },
    {
      "cell_type": "markdown",
      "id": "284a3d22",
      "metadata": {
        "id": "284a3d22"
      },
      "source": [
        "### Импорт библиотек"
      ]
    },
    {
      "cell_type": "code",
      "execution_count": null,
      "id": "ddf8ec12",
      "metadata": {
        "id": "ddf8ec12"
      },
      "outputs": [],
      "source": [
        "import pandas as pd\n",
        "from sklearn.model_selection import train_test_split, GridSearchCV\n",
        "from sklearn.preprocessing import LabelEncoder, StandardScaler\n",
        "from sklearn.neighbors import KNeighborsClassifier\n",
        "from sklearn.metrics import classification_report, accuracy_score, confusion_matrix\n"
      ]
    },
    {
      "cell_type": "markdown",
      "source": [
        "### Подключение гугл диска"
      ],
      "metadata": {
        "id": "EMvz2OLjkmkF"
      },
      "id": "EMvz2OLjkmkF"
    },
    {
      "cell_type": "code",
      "source": [
        "%%time\n",
        "# монтируем диск\n",
        "from google.colab import drive\n",
        "drive.mount('/content/drive')"
      ],
      "metadata": {
        "colab": {
          "base_uri": "https://localhost:8080/"
        },
        "id": "sH6GD5oIjzZI",
        "outputId": "ac0180d4-af93-4eff-b107-75af2a741730"
      },
      "id": "sH6GD5oIjzZI",
      "execution_count": null,
      "outputs": [
        {
          "output_type": "stream",
          "name": "stdout",
          "text": [
            "Mounted at /content/drive\n",
            "CPU times: user 1.39 s, sys: 242 ms, total: 1.64 s\n",
            "Wall time: 37.5 s\n"
          ]
        }
      ]
    },
    {
      "cell_type": "code",
      "execution_count": null,
      "id": "6f8ea832",
      "metadata": {
        "colab": {
          "base_uri": "https://localhost:8080/"
        },
        "id": "6f8ea832",
        "outputId": "4396503a-600b-44db-b9ed-6c7283f55a66"
      },
      "outputs": [
        {
          "output_type": "stream",
          "name": "stdout",
          "text": [
            "  manufacturer_name model_name transmission   color  odometer_value  \\\n",
            "0            Subaru    Outback    automatic  silver          190000   \n",
            "1            Subaru    Outback    automatic    blue          290000   \n",
            "2            Subaru   Forester    automatic     red          402000   \n",
            "3            Subaru    Impreza   mechanical    blue           10000   \n",
            "4            Subaru     Legacy    automatic   black          280000   \n",
            "\n",
            "   year_produced engine_fuel  engine_has_gas engine_type  engine_capacity  \\\n",
            "0           2010    gasoline           False    gasoline              2.5   \n",
            "1           2002    gasoline           False    gasoline              3.0   \n",
            "2           2001    gasoline           False    gasoline              2.5   \n",
            "3           1999    gasoline           False    gasoline              3.0   \n",
            "4           2001    gasoline           False    gasoline              2.5   \n",
            "\n",
            "   ... feature_1  feature_2 feature_3 feature_4  feature_5  feature_6  \\\n",
            "0  ...      True       True      True     False       True      False   \n",
            "1  ...      True      False     False      True       True      False   \n",
            "2  ...      True      False     False     False      False      False   \n",
            "3  ...     False      False     False     False      False      False   \n",
            "4  ...      True      False      True      True      False      False   \n",
            "\n",
            "  feature_7  feature_8  feature_9  duration_listed  \n",
            "0      True       True       True               16  \n",
            "1     False      False       True               83  \n",
            "2     False       True       True              151  \n",
            "3     False      False      False               86  \n",
            "4     False      False       True                7  \n",
            "\n",
            "[5 rows x 30 columns]\n"
          ]
        }
      ],
      "source": [
        "df = pd.read_csv('/content/drive/MyDrive/cars.csv')\n",
        "print(df.head(5))"
      ]
    },
    {
      "cell_type": "markdown",
      "id": "9e454bf4",
      "metadata": {
        "id": "9e454bf4"
      },
      "source": [
        "### Удаление ненужных и пустых столбцов"
      ]
    },
    {
      "cell_type": "code",
      "execution_count": null,
      "id": "d87192c6",
      "metadata": {
        "colab": {
          "base_uri": "https://localhost:8080/"
        },
        "id": "d87192c6",
        "outputId": "4d1d3c02-7582-4bd5-9f19-b66457953611"
      },
      "outputs": [
        {
          "output_type": "stream",
          "name": "stdout",
          "text": [
            "  manufacturer_name model_name transmission   color  odometer_value  \\\n",
            "0            Subaru    Outback    automatic  silver          190000   \n",
            "1            Subaru    Outback    automatic    blue          290000   \n",
            "2            Subaru   Forester    automatic     red          402000   \n",
            "3            Subaru    Impreza   mechanical    blue           10000   \n",
            "4            Subaru     Legacy    automatic   black          280000   \n",
            "\n",
            "   year_produced engine_fuel  engine_has_gas engine_type  engine_capacity  \\\n",
            "0           2010    gasoline           False    gasoline              2.5   \n",
            "1           2002    gasoline           False    gasoline              3.0   \n",
            "2           2001    gasoline           False    gasoline              2.5   \n",
            "3           1999    gasoline           False    gasoline              3.0   \n",
            "4           2001    gasoline           False    gasoline              2.5   \n",
            "\n",
            "   body_type  has_warranty  state drivetrain  price_usd  is_exchangeable  \\\n",
            "0  universal         False  owned        all   10900.00            False   \n",
            "1  universal         False  owned        all    5000.00             True   \n",
            "2        suv         False  owned        all    2800.00             True   \n",
            "3      sedan         False  owned        all    9999.00             True   \n",
            "4  universal         False  owned        all    2134.11             True   \n",
            "\n",
            "   location_region  number_of_photos  up_counter  \n",
            "0     Минская обл.                 9          13  \n",
            "1     Минская обл.                12          54  \n",
            "2     Минская обл.                 4          72  \n",
            "3     Минская обл.                 9          42  \n",
            "4  Гомельская обл.                14           7  \n"
          ]
        }
      ],
      "source": [
        "columns_to_drop = ['feature_0','feature_1', 'feature_2', 'feature_3', 'feature_4', 'feature_5', 'feature_6', 'feature_7', 'feature_8', 'feature_9', 'duration_listed']\n",
        "df = df.drop(columns=columns_to_drop, axis=1)\n",
        "df.dropna(inplace=True)\n",
        "\n",
        "print(df.head(5))"
      ]
    },
    {
      "cell_type": "markdown",
      "id": "5d8d66c1",
      "metadata": {
        "id": "5d8d66c1"
      },
      "source": [
        "### Кодирование текстовых значений"
      ]
    },
    {
      "cell_type": "code",
      "execution_count": null,
      "id": "b208a24b",
      "metadata": {
        "colab": {
          "base_uri": "https://localhost:8080/"
        },
        "id": "b208a24b",
        "outputId": "fd72c708-6ee6-41e6-b8e3-52540719bd5c"
      },
      "outputs": [
        {
          "output_type": "stream",
          "name": "stdout",
          "text": [
            "   manufacturer_name  model_name  transmission  color  odometer_value  \\\n",
            "0                 45         763             0      8          190000   \n",
            "1                 45         763             0      1          290000   \n",
            "2                 45         519             0      7          402000   \n",
            "3                 45         609             1      1           10000   \n",
            "4                 45         664             0      0          280000   \n",
            "\n",
            "   year_produced  engine_fuel  engine_has_gas  engine_type  engine_capacity  \\\n",
            "0           2010            2           False            1              2.5   \n",
            "1           2002            2           False            1              3.0   \n",
            "2           2001            2           False            1              2.5   \n",
            "3           1999            2           False            1              3.0   \n",
            "4           2001            2           False            1              2.5   \n",
            "\n",
            "   body_type  has_warranty  state  drivetrain  price_usd  is_exchangeable  \\\n",
            "0         10         False      2           0   10900.00            False   \n",
            "1         10         False      2           0    5000.00             True   \n",
            "2          9         False      2           0    2800.00             True   \n",
            "3          8         False      2           0    9999.00             True   \n",
            "4         10         False      2           0    2134.11             True   \n",
            "\n",
            "   location_region  number_of_photos  up_counter  \n",
            "0                4                 9          13  \n",
            "1                4                12          54  \n",
            "2                4                 4          72  \n",
            "3                4                 9          42  \n",
            "4                2                14           7  \n"
          ]
        }
      ],
      "source": [
        "label_encoders = {}\n",
        "for column in df.select_dtypes(include=['object']).columns:\n",
        "    label_encoders[column] = LabelEncoder()\n",
        "    df[column] = label_encoders[column].fit_transform(df[column])\n",
        "\n",
        "print(df.head(5))"
      ]
    },
    {
      "cell_type": "markdown",
      "id": "f5a791ac",
      "metadata": {
        "id": "f5a791ac"
      },
      "source": [
        "### Стандартизация датасета"
      ]
    },
    {
      "cell_type": "code",
      "execution_count": null,
      "id": "27059b67",
      "metadata": {
        "colab": {
          "base_uri": "https://localhost:8080/"
        },
        "id": "27059b67",
        "outputId": "33f6f041-c930-4817-afb5-f27aeb9239dc"
      },
      "outputs": [
        {
          "output_type": "stream",
          "name": "stdout",
          "text": [
            "   manufacturer_name  model_name  transmission     color  odometer_value  \\\n",
            "0           1.089297    0.597314     -1.410285  0.978100       -0.432979   \n",
            "1           1.089297    0.597314     -1.410285 -0.969685        0.302004   \n",
            "2           1.089297   -0.149960     -1.410285  0.699845        1.125184   \n",
            "3           1.089297    0.125674      0.709076 -0.969685       -1.755946   \n",
            "4           1.089297    0.294117     -1.410285 -1.247940        0.228505   \n",
            "\n",
            "   year_produced  engine_fuel  engine_has_gas  engine_type  engine_capacity  \\\n",
            "0       0.875318     0.721021       -0.190355     0.708498         0.662782   \n",
            "1      -0.116665     0.721021       -0.190355     0.708498         1.407751   \n",
            "2      -0.240663     0.721021       -0.190355     0.708498         0.662782   \n",
            "3      -0.488659     0.721021       -0.190355     0.708498         1.407751   \n",
            "4      -0.240663     0.721021       -0.190355     0.708498         0.662782   \n",
            "\n",
            "   body_type  has_warranty     state  drivetrain  price_usd  location_region  \\\n",
            "0   1.096064     -0.108598  0.138353   -1.890517   0.663465         0.508337   \n",
            "1   1.096064     -0.108598  0.138353   -1.890517  -0.254806         0.508337   \n",
            "2   0.754660     -0.108598  0.138353   -1.890517  -0.597213         0.508337   \n",
            "3   0.413255     -0.108598  0.138353   -1.890517   0.523234         0.508337   \n",
            "4   1.096064     -0.108598  0.138353   -1.890517  -0.700851        -0.938511   \n",
            "\n",
            "   number_of_photos  up_counter  \n",
            "0         -0.106366   -0.076380  \n",
            "1          0.386020    0.870694  \n",
            "2         -0.927009    1.286483  \n",
            "3         -0.106366    0.593502  \n",
            "4          0.714278   -0.214976  \n"
          ]
        }
      ],
      "source": [
        "scaler = StandardScaler()\n",
        "scaler.fit(df.drop('is_exchangeable', axis=1))\n",
        "scaled_features = scaler.transform(df.drop('is_exchangeable', axis=1))\n",
        "scaled_data = pd.DataFrame(scaled_features, columns = df.drop('is_exchangeable', axis=1).columns)\n",
        "\n",
        "print(scaled_data.head(5))"
      ]
    },
    {
      "cell_type": "markdown",
      "id": "57c3e6c4",
      "metadata": {
        "id": "57c3e6c4"
      },
      "source": [
        "### Разделение датасета на обучающие и тестовые данные"
      ]
    },
    {
      "cell_type": "code",
      "execution_count": null,
      "id": "29d5a0c1",
      "metadata": {
        "id": "29d5a0c1"
      },
      "outputs": [],
      "source": [
        "x = scaled_data\n",
        "y = df['is_exchangeable']\n",
        "\n",
        "x_training_data, x_test_data, y_training_data, y_test_data = train_test_split(x, y, test_size = 0.3)"
      ]
    },
    {
      "cell_type": "markdown",
      "id": "ba69edde",
      "metadata": {
        "id": "ba69edde"
      },
      "source": [
        "## Задание 2 .\n",
        "Провести классификацию найденного датасета, методом к- ближайших соседей."
      ]
    },
    {
      "cell_type": "markdown",
      "id": "8f046941",
      "metadata": {
        "id": "8f046941"
      },
      "source": [
        "### Обучение модели K-ближайших соседей"
      ]
    },
    {
      "cell_type": "code",
      "execution_count": null,
      "id": "676a8a59",
      "metadata": {
        "id": "676a8a59"
      },
      "outputs": [],
      "source": [
        "model = KNeighborsClassifier(n_neighbors = 1)"
      ]
    },
    {
      "cell_type": "code",
      "execution_count": null,
      "id": "6b71a38b",
      "metadata": {
        "colab": {
          "base_uri": "https://localhost:8080/",
          "height": 74
        },
        "id": "6b71a38b",
        "outputId": "2c94e577-5a77-4f54-eb06-ed3626fd53a4"
      },
      "outputs": [
        {
          "output_type": "execute_result",
          "data": {
            "text/plain": [
              "KNeighborsClassifier(n_neighbors=1)"
            ],
            "text/html": [
              "<style>#sk-container-id-1 {color: black;background-color: white;}#sk-container-id-1 pre{padding: 0;}#sk-container-id-1 div.sk-toggleable {background-color: white;}#sk-container-id-1 label.sk-toggleable__label {cursor: pointer;display: block;width: 100%;margin-bottom: 0;padding: 0.3em;box-sizing: border-box;text-align: center;}#sk-container-id-1 label.sk-toggleable__label-arrow:before {content: \"▸\";float: left;margin-right: 0.25em;color: #696969;}#sk-container-id-1 label.sk-toggleable__label-arrow:hover:before {color: black;}#sk-container-id-1 div.sk-estimator:hover label.sk-toggleable__label-arrow:before {color: black;}#sk-container-id-1 div.sk-toggleable__content {max-height: 0;max-width: 0;overflow: hidden;text-align: left;background-color: #f0f8ff;}#sk-container-id-1 div.sk-toggleable__content pre {margin: 0.2em;color: black;border-radius: 0.25em;background-color: #f0f8ff;}#sk-container-id-1 input.sk-toggleable__control:checked~div.sk-toggleable__content {max-height: 200px;max-width: 100%;overflow: auto;}#sk-container-id-1 input.sk-toggleable__control:checked~label.sk-toggleable__label-arrow:before {content: \"▾\";}#sk-container-id-1 div.sk-estimator input.sk-toggleable__control:checked~label.sk-toggleable__label {background-color: #d4ebff;}#sk-container-id-1 div.sk-label input.sk-toggleable__control:checked~label.sk-toggleable__label {background-color: #d4ebff;}#sk-container-id-1 input.sk-hidden--visually {border: 0;clip: rect(1px 1px 1px 1px);clip: rect(1px, 1px, 1px, 1px);height: 1px;margin: -1px;overflow: hidden;padding: 0;position: absolute;width: 1px;}#sk-container-id-1 div.sk-estimator {font-family: monospace;background-color: #f0f8ff;border: 1px dotted black;border-radius: 0.25em;box-sizing: border-box;margin-bottom: 0.5em;}#sk-container-id-1 div.sk-estimator:hover {background-color: #d4ebff;}#sk-container-id-1 div.sk-parallel-item::after {content: \"\";width: 100%;border-bottom: 1px solid gray;flex-grow: 1;}#sk-container-id-1 div.sk-label:hover label.sk-toggleable__label {background-color: #d4ebff;}#sk-container-id-1 div.sk-serial::before {content: \"\";position: absolute;border-left: 1px solid gray;box-sizing: border-box;top: 0;bottom: 0;left: 50%;z-index: 0;}#sk-container-id-1 div.sk-serial {display: flex;flex-direction: column;align-items: center;background-color: white;padding-right: 0.2em;padding-left: 0.2em;position: relative;}#sk-container-id-1 div.sk-item {position: relative;z-index: 1;}#sk-container-id-1 div.sk-parallel {display: flex;align-items: stretch;justify-content: center;background-color: white;position: relative;}#sk-container-id-1 div.sk-item::before, #sk-container-id-1 div.sk-parallel-item::before {content: \"\";position: absolute;border-left: 1px solid gray;box-sizing: border-box;top: 0;bottom: 0;left: 50%;z-index: -1;}#sk-container-id-1 div.sk-parallel-item {display: flex;flex-direction: column;z-index: 1;position: relative;background-color: white;}#sk-container-id-1 div.sk-parallel-item:first-child::after {align-self: flex-end;width: 50%;}#sk-container-id-1 div.sk-parallel-item:last-child::after {align-self: flex-start;width: 50%;}#sk-container-id-1 div.sk-parallel-item:only-child::after {width: 0;}#sk-container-id-1 div.sk-dashed-wrapped {border: 1px dashed gray;margin: 0 0.4em 0.5em 0.4em;box-sizing: border-box;padding-bottom: 0.4em;background-color: white;}#sk-container-id-1 div.sk-label label {font-family: monospace;font-weight: bold;display: inline-block;line-height: 1.2em;}#sk-container-id-1 div.sk-label-container {text-align: center;}#sk-container-id-1 div.sk-container {/* jupyter's `normalize.less` sets `[hidden] { display: none; }` but bootstrap.min.css set `[hidden] { display: none !important; }` so we also need the `!important` here to be able to override the default hidden behavior on the sphinx rendered scikit-learn.org. See: https://github.com/scikit-learn/scikit-learn/issues/21755 */display: inline-block !important;position: relative;}#sk-container-id-1 div.sk-text-repr-fallback {display: none;}</style><div id=\"sk-container-id-1\" class=\"sk-top-container\"><div class=\"sk-text-repr-fallback\"><pre>KNeighborsClassifier(n_neighbors=1)</pre><b>In a Jupyter environment, please rerun this cell to show the HTML representation or trust the notebook. <br />On GitHub, the HTML representation is unable to render, please try loading this page with nbviewer.org.</b></div><div class=\"sk-container\" hidden><div class=\"sk-item\"><div class=\"sk-estimator sk-toggleable\"><input class=\"sk-toggleable__control sk-hidden--visually\" id=\"sk-estimator-id-1\" type=\"checkbox\" checked><label for=\"sk-estimator-id-1\" class=\"sk-toggleable__label sk-toggleable__label-arrow\">KNeighborsClassifier</label><div class=\"sk-toggleable__content\"><pre>KNeighborsClassifier(n_neighbors=1)</pre></div></div></div></div></div>"
            ]
          },
          "metadata": {},
          "execution_count": 12
        }
      ],
      "source": [
        "model.fit(x_training_data, y_training_data)"
      ]
    },
    {
      "cell_type": "markdown",
      "id": "fe3d2a2c",
      "metadata": {
        "id": "fe3d2a2c"
      },
      "source": [
        "### Делаем предсказания с помощью алгоритма K-ближайших соседей"
      ]
    },
    {
      "cell_type": "code",
      "execution_count": null,
      "id": "9d533078",
      "metadata": {
        "id": "9d533078"
      },
      "outputs": [],
      "source": [
        "predictions = model.predict(x_test_data)"
      ]
    },
    {
      "cell_type": "markdown",
      "id": "e6fdae1f",
      "metadata": {
        "id": "e6fdae1f"
      },
      "source": [
        "### Оценка точности нашей модели"
      ]
    },
    {
      "cell_type": "code",
      "execution_count": null,
      "id": "bfc0f030",
      "metadata": {
        "colab": {
          "base_uri": "https://localhost:8080/"
        },
        "id": "bfc0f030",
        "outputId": "1154d5f1-3b78-4980-b88d-dba032b9c41d"
      },
      "outputs": [
        {
          "output_type": "stream",
          "name": "stdout",
          "text": [
            "              precision    recall  f1-score   support\n",
            "\n",
            "       False       0.68      0.70      0.69      7494\n",
            "        True       0.41      0.40      0.41      4063\n",
            "\n",
            "    accuracy                           0.59     11557\n",
            "   macro avg       0.55      0.55      0.55     11557\n",
            "weighted avg       0.59      0.59      0.59     11557\n",
            "\n"
          ]
        }
      ],
      "source": [
        "print(classification_report(y_test_data, predictions))"
      ]
    }
  ],
  "metadata": {
    "kernelspec": {
      "display_name": "Python 3 (ipykernel)",
      "language": "python",
      "name": "python3"
    },
    "language_info": {
      "codemirror_mode": {
        "name": "ipython",
        "version": 3
      },
      "file_extension": ".py",
      "mimetype": "text/x-python",
      "name": "python",
      "nbconvert_exporter": "python",
      "pygments_lexer": "ipython3",
      "version": "3.11.5"
    },
    "colab": {
      "provenance": []
    }
  },
  "nbformat": 4,
  "nbformat_minor": 5
}