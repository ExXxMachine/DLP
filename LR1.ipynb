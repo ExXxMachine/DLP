{
  "cells": [
    {
      "cell_type": "markdown",
      "id": "33a0a923",
      "metadata": {
        "id": "33a0a923"
      },
      "source": [
        "# Лабороторная работа 1"
      ]
    },
    {
      "cell_type": "markdown",
      "id": "50272b7e",
      "metadata": {
        "id": "50272b7e"
      },
      "source": [
        "## Задание 1"
      ]
    },
    {
      "cell_type": "markdown",
      "id": "6600b833",
      "metadata": {
        "id": "6600b833"
      },
      "source": [
        "Найти набор данных (датасет) для классификации удовлетворяющий следующим условиям: более 10 000 строк, более 20 столбцов, разные типы в столбцах, обязательно наличие целевого признака (таргета)."
      ]
    },
    {
      "cell_type": "markdown",
      "id": "284a3d22",
      "metadata": {
        "id": "284a3d22"
      },
      "source": [
        "### Импорт библиотек"
      ]
    },
    {
      "cell_type": "code",
      "execution_count": 10,
      "id": "ddf8ec12",
      "metadata": {
        "id": "ddf8ec12"
      },
      "outputs": [],
      "source": [
        "import pandas as pd\n",
        "import time\n",
        "from sklearn.model_selection import train_test_split, GridSearchCV\n",
        "from sklearn.preprocessing import LabelEncoder, StandardScaler\n",
        "from sklearn.neighbors import KNeighborsClassifier\n",
        "from sklearn.metrics import classification_report, accuracy_score, confusion_matrix\n"
      ]
    },
    {
      "cell_type": "markdown",
      "source": [
        "### Подключение гугл диска"
      ],
      "metadata": {
        "id": "EMvz2OLjkmkF"
      },
      "id": "EMvz2OLjkmkF"
    },
    {
      "cell_type": "code",
      "source": [
        "%%time\n",
        "# монтируем диск\n",
        "from google.colab import drive\n",
        "drive.mount('/content/drive')"
      ],
      "metadata": {
        "colab": {
          "base_uri": "https://localhost:8080/"
        },
        "id": "sH6GD5oIjzZI",
        "outputId": "9265330d-019a-4040-ab8a-5ba0ee7fbf93"
      },
      "id": "sH6GD5oIjzZI",
      "execution_count": 11,
      "outputs": [
        {
          "output_type": "stream",
          "name": "stdout",
          "text": [
            "Drive already mounted at /content/drive; to attempt to forcibly remount, call drive.mount(\"/content/drive\", force_remount=True).\n",
            "CPU times: user 60 ms, sys: 1.94 ms, total: 61.9 ms\n",
            "Wall time: 3.5 s\n"
          ]
        }
      ]
    },
    {
      "cell_type": "code",
      "execution_count": 12,
      "id": "6f8ea832",
      "metadata": {
        "colab": {
          "base_uri": "https://localhost:8080/"
        },
        "id": "6f8ea832",
        "outputId": "e3459175-9c13-4abe-aff8-51701a735ac4"
      },
      "outputs": [
        {
          "output_type": "stream",
          "name": "stdout",
          "text": [
            "  manufacturer_name model_name transmission   color  odometer_value  \\\n",
            "0            Subaru    Outback    automatic  silver          190000   \n",
            "1            Subaru    Outback    automatic    blue          290000   \n",
            "2            Subaru   Forester    automatic     red          402000   \n",
            "3            Subaru    Impreza   mechanical    blue           10000   \n",
            "4            Subaru     Legacy    automatic   black          280000   \n",
            "\n",
            "   year_produced engine_fuel  engine_has_gas engine_type  engine_capacity  \\\n",
            "0           2010    gasoline           False    gasoline              2.5   \n",
            "1           2002    gasoline           False    gasoline              3.0   \n",
            "2           2001    gasoline           False    gasoline              2.5   \n",
            "3           1999    gasoline           False    gasoline              3.0   \n",
            "4           2001    gasoline           False    gasoline              2.5   \n",
            "\n",
            "   ... feature_1  feature_2 feature_3 feature_4  feature_5  feature_6  \\\n",
            "0  ...      True       True      True     False       True      False   \n",
            "1  ...      True      False     False      True       True      False   \n",
            "2  ...      True      False     False     False      False      False   \n",
            "3  ...     False      False     False     False      False      False   \n",
            "4  ...      True      False      True      True      False      False   \n",
            "\n",
            "  feature_7  feature_8  feature_9  duration_listed  \n",
            "0      True       True       True               16  \n",
            "1     False      False       True               83  \n",
            "2     False       True       True              151  \n",
            "3     False      False      False               86  \n",
            "4     False      False       True                7  \n",
            "\n",
            "[5 rows x 30 columns]\n"
          ]
        }
      ],
      "source": [
        "df = pd.read_csv('/content/drive/MyDrive/cars.csv')\n",
        "print(df.head(5))"
      ]
    },
    {
      "cell_type": "markdown",
      "id": "9e454bf4",
      "metadata": {
        "id": "9e454bf4"
      },
      "source": [
        "### Удаление ненужных и пустых столбцов"
      ]
    },
    {
      "cell_type": "code",
      "execution_count": 13,
      "id": "d87192c6",
      "metadata": {
        "colab": {
          "base_uri": "https://localhost:8080/"
        },
        "id": "d87192c6",
        "outputId": "b1e4db2c-64b4-4820-b3f2-e7b8eb78d084"
      },
      "outputs": [
        {
          "output_type": "stream",
          "name": "stdout",
          "text": [
            "  manufacturer_name model_name transmission   color  odometer_value  \\\n",
            "0            Subaru    Outback    automatic  silver          190000   \n",
            "1            Subaru    Outback    automatic    blue          290000   \n",
            "2            Subaru   Forester    automatic     red          402000   \n",
            "3            Subaru    Impreza   mechanical    blue           10000   \n",
            "4            Subaru     Legacy    automatic   black          280000   \n",
            "\n",
            "   year_produced engine_fuel  engine_has_gas engine_type  engine_capacity  \\\n",
            "0           2010    gasoline           False    gasoline              2.5   \n",
            "1           2002    gasoline           False    gasoline              3.0   \n",
            "2           2001    gasoline           False    gasoline              2.5   \n",
            "3           1999    gasoline           False    gasoline              3.0   \n",
            "4           2001    gasoline           False    gasoline              2.5   \n",
            "\n",
            "   body_type  has_warranty  state drivetrain  price_usd  is_exchangeable  \\\n",
            "0  universal         False  owned        all   10900.00            False   \n",
            "1  universal         False  owned        all    5000.00             True   \n",
            "2        suv         False  owned        all    2800.00             True   \n",
            "3      sedan         False  owned        all    9999.00             True   \n",
            "4  universal         False  owned        all    2134.11             True   \n",
            "\n",
            "   location_region  number_of_photos  up_counter  \n",
            "0     Минская обл.                 9          13  \n",
            "1     Минская обл.                12          54  \n",
            "2     Минская обл.                 4          72  \n",
            "3     Минская обл.                 9          42  \n",
            "4  Гомельская обл.                14           7  \n"
          ]
        }
      ],
      "source": [
        "columns_to_drop = ['feature_0','feature_1', 'feature_2', 'feature_3', 'feature_4', 'feature_5', 'feature_6', 'feature_7', 'feature_8', 'feature_9', 'duration_listed']\n",
        "df = df.drop(columns=columns_to_drop, axis=1)\n",
        "df.dropna(inplace=True)\n",
        "\n",
        "print(df.head(5))"
      ]
    },
    {
      "cell_type": "markdown",
      "id": "5d8d66c1",
      "metadata": {
        "id": "5d8d66c1"
      },
      "source": [
        "### Кодирование текстовых значений"
      ]
    },
    {
      "cell_type": "code",
      "execution_count": 14,
      "id": "b208a24b",
      "metadata": {
        "colab": {
          "base_uri": "https://localhost:8080/"
        },
        "id": "b208a24b",
        "outputId": "8f9d3d55-7cd7-4a61-a01b-011349797d9a"
      },
      "outputs": [
        {
          "output_type": "stream",
          "name": "stdout",
          "text": [
            "   manufacturer_name  model_name  transmission  color  odometer_value  \\\n",
            "0                 45         763             0      8          190000   \n",
            "1                 45         763             0      1          290000   \n",
            "2                 45         519             0      7          402000   \n",
            "3                 45         609             1      1           10000   \n",
            "4                 45         664             0      0          280000   \n",
            "\n",
            "   year_produced  engine_fuel  engine_has_gas  engine_type  engine_capacity  \\\n",
            "0           2010            2           False            1              2.5   \n",
            "1           2002            2           False            1              3.0   \n",
            "2           2001            2           False            1              2.5   \n",
            "3           1999            2           False            1              3.0   \n",
            "4           2001            2           False            1              2.5   \n",
            "\n",
            "   body_type  has_warranty  state  drivetrain  price_usd  is_exchangeable  \\\n",
            "0         10         False      2           0   10900.00            False   \n",
            "1         10         False      2           0    5000.00             True   \n",
            "2          9         False      2           0    2800.00             True   \n",
            "3          8         False      2           0    9999.00             True   \n",
            "4         10         False      2           0    2134.11             True   \n",
            "\n",
            "   location_region  number_of_photos  up_counter  \n",
            "0                4                 9          13  \n",
            "1                4                12          54  \n",
            "2                4                 4          72  \n",
            "3                4                 9          42  \n",
            "4                2                14           7  \n"
          ]
        }
      ],
      "source": [
        "label_encoders = {}\n",
        "for column in df.select_dtypes(include=['object']).columns:\n",
        "    label_encoders[column] = LabelEncoder()\n",
        "    df[column] = label_encoders[column].fit_transform(df[column])\n",
        "\n",
        "print(df.head(5))"
      ]
    },
    {
      "cell_type": "markdown",
      "id": "f5a791ac",
      "metadata": {
        "id": "f5a791ac"
      },
      "source": [
        "### Стандартизация датасета"
      ]
    },
    {
      "cell_type": "code",
      "execution_count": 15,
      "id": "27059b67",
      "metadata": {
        "colab": {
          "base_uri": "https://localhost:8080/"
        },
        "id": "27059b67",
        "outputId": "581709b1-f9fb-4eea-8edb-790e2cac1b40"
      },
      "outputs": [
        {
          "output_type": "stream",
          "name": "stdout",
          "text": [
            "   manufacturer_name  model_name  transmission     color  odometer_value  \\\n",
            "0           1.089297    0.597314     -1.410285  0.978100       -0.432979   \n",
            "1           1.089297    0.597314     -1.410285 -0.969685        0.302004   \n",
            "2           1.089297   -0.149960     -1.410285  0.699845        1.125184   \n",
            "3           1.089297    0.125674      0.709076 -0.969685       -1.755946   \n",
            "4           1.089297    0.294117     -1.410285 -1.247940        0.228505   \n",
            "\n",
            "   year_produced  engine_fuel  engine_has_gas  engine_type  engine_capacity  \\\n",
            "0       0.875318     0.721021       -0.190355     0.708498         0.662782   \n",
            "1      -0.116665     0.721021       -0.190355     0.708498         1.407751   \n",
            "2      -0.240663     0.721021       -0.190355     0.708498         0.662782   \n",
            "3      -0.488659     0.721021       -0.190355     0.708498         1.407751   \n",
            "4      -0.240663     0.721021       -0.190355     0.708498         0.662782   \n",
            "\n",
            "   body_type  has_warranty     state  drivetrain  price_usd  location_region  \\\n",
            "0   1.096064     -0.108598  0.138353   -1.890517   0.663465         0.508337   \n",
            "1   1.096064     -0.108598  0.138353   -1.890517  -0.254806         0.508337   \n",
            "2   0.754660     -0.108598  0.138353   -1.890517  -0.597213         0.508337   \n",
            "3   0.413255     -0.108598  0.138353   -1.890517   0.523234         0.508337   \n",
            "4   1.096064     -0.108598  0.138353   -1.890517  -0.700851        -0.938511   \n",
            "\n",
            "   number_of_photos  up_counter  \n",
            "0         -0.106366   -0.076380  \n",
            "1          0.386020    0.870694  \n",
            "2         -0.927009    1.286483  \n",
            "3         -0.106366    0.593502  \n",
            "4          0.714278   -0.214976  \n"
          ]
        }
      ],
      "source": [
        "scaler = StandardScaler()\n",
        "scaler.fit(df.drop('is_exchangeable', axis=1))\n",
        "scaled_features = scaler.transform(df.drop('is_exchangeable', axis=1))\n",
        "scaled_data = pd.DataFrame(scaled_features, columns = df.drop('is_exchangeable', axis=1).columns)\n",
        "\n",
        "print(scaled_data.head(5))"
      ]
    },
    {
      "cell_type": "markdown",
      "id": "57c3e6c4",
      "metadata": {
        "id": "57c3e6c4"
      },
      "source": [
        "### Разделение датасета на обучающие и тестовые данные"
      ]
    },
    {
      "cell_type": "code",
      "execution_count": 16,
      "id": "29d5a0c1",
      "metadata": {
        "id": "29d5a0c1"
      },
      "outputs": [],
      "source": [
        "x = scaled_data\n",
        "y = df['is_exchangeable']\n",
        "\n",
        "x_training_data, x_test_data, y_training_data, y_test_data = train_test_split(x, y, test_size = 0.3)"
      ]
    },
    {
      "cell_type": "markdown",
      "source": [
        "### Устанавливаем параметры для подбора\n"
      ],
      "metadata": {
        "id": "8KHdQ1K6Bid3"
      },
      "id": "8KHdQ1K6Bid3"
    },
    {
      "cell_type": "code",
      "source": [
        "param_grid = {\n",
        "    'n_neighbors': [1, 3, 5, 7, 9, 11, 13, 15],\n",
        "    'weights': ['uniform', 'distance'],\n",
        "    'metric': ['euclidean', 'manhattan', 'minkowski']\n",
        "}"
      ],
      "metadata": {
        "id": "iZ0HJC32Binv"
      },
      "id": "iZ0HJC32Binv",
      "execution_count": 17,
      "outputs": []
    },
    {
      "cell_type": "markdown",
      "id": "ba69edde",
      "metadata": {
        "id": "ba69edde"
      },
      "source": [
        "## Задание 2 .\n",
        "Провести классификацию найденного датасета, методом к- ближайших соседей."
      ]
    },
    {
      "cell_type": "markdown",
      "id": "8f046941",
      "metadata": {
        "id": "8f046941"
      },
      "source": [
        "### Создаем модель и выполняем GridSearchCV"
      ]
    },
    {
      "cell_type": "code",
      "execution_count": 18,
      "id": "676a8a59",
      "metadata": {
        "id": "676a8a59",
        "colab": {
          "base_uri": "https://localhost:8080/"
        },
        "outputId": "1d2e02cb-9dee-474c-c16b-30d24bac398f"
      },
      "outputs": [
        {
          "output_type": "stream",
          "name": "stdout",
          "text": [
            "Fitting 5 folds for each of 48 candidates, totalling 240 fits\n"
          ]
        }
      ],
      "source": [
        "knn = KNeighborsClassifier()\n",
        "grid_search = GridSearchCV(estimator=knn, param_grid=param_grid, cv=5, n_jobs=-1, verbose=2)\n",
        "start_time = time.time()\n",
        "grid_search.fit(x_training_data, y_training_data)\n",
        "end_time = time.time()"
      ]
    },
    {
      "cell_type": "code",
      "execution_count": 19,
      "id": "6b71a38b",
      "metadata": {
        "colab": {
          "base_uri": "https://localhost:8080/"
        },
        "id": "6b71a38b",
        "outputId": "7461f452-9570-4cee-9cc2-c7a89766bbd9"
      },
      "outputs": [
        {
          "output_type": "stream",
          "name": "stdout",
          "text": [
            "GridSearchCV took 434.72 seconds\n",
            "Best parameters found: {'metric': 'manhattan', 'n_neighbors': 15, 'weights': 'distance'}\n"
          ]
        }
      ],
      "source": [
        "print(f\"GridSearchCV took {end_time - start_time:.2f} seconds\")\n",
        "print(\"Best parameters found:\", grid_search.best_params_)"
      ]
    },
    {
      "cell_type": "markdown",
      "id": "fe3d2a2c",
      "metadata": {
        "id": "fe3d2a2c"
      },
      "source": [
        "### Обучаем модель с лучшими параметрами"
      ]
    },
    {
      "cell_type": "code",
      "execution_count": 20,
      "id": "9d533078",
      "metadata": {
        "id": "9d533078"
      },
      "outputs": [],
      "source": [
        "best_knn = grid_search.best_estimator_\n",
        "predictions = best_knn.predict(x_test_data)"
      ]
    },
    {
      "cell_type": "markdown",
      "id": "e6fdae1f",
      "metadata": {
        "id": "e6fdae1f"
      },
      "source": [
        "### Выводим метрики качества модели"
      ]
    },
    {
      "cell_type": "code",
      "execution_count": 21,
      "id": "bfc0f030",
      "metadata": {
        "colab": {
          "base_uri": "https://localhost:8080/"
        },
        "id": "bfc0f030",
        "outputId": "9e4e51ce-a5ad-4104-fe4b-1b7414c77b31"
      },
      "outputs": [
        {
          "output_type": "stream",
          "name": "stdout",
          "text": [
            "              precision    recall  f1-score   support\n",
            "\n",
            "       False       0.68      0.90      0.77      7443\n",
            "        True       0.56      0.23      0.33      4114\n",
            "\n",
            "    accuracy                           0.66     11557\n",
            "   macro avg       0.62      0.56      0.55     11557\n",
            "weighted avg       0.64      0.66      0.61     11557\n",
            "\n",
            "Confusion Matrix:\n",
            "[[6696  747]\n",
            " [3170  944]]\n",
            "Accuracy: 0.6610712122523146\n"
          ]
        }
      ],
      "source": [
        "print(classification_report(y_test_data, predictions))\n",
        "print(\"Confusion Matrix:\")\n",
        "print(confusion_matrix(y_test_data, predictions))\n",
        "print(\"Accuracy:\", accuracy_score(y_test_data, predictions))"
      ]
    }
  ],
  "metadata": {
    "kernelspec": {
      "display_name": "Python 3 (ipykernel)",
      "language": "python",
      "name": "python3"
    },
    "language_info": {
      "codemirror_mode": {
        "name": "ipython",
        "version": 3
      },
      "file_extension": ".py",
      "mimetype": "text/x-python",
      "name": "python",
      "nbconvert_exporter": "python",
      "pygments_lexer": "ipython3",
      "version": "3.11.5"
    },
    "colab": {
      "provenance": []
    }
  },
  "nbformat": 4,
  "nbformat_minor": 5
}