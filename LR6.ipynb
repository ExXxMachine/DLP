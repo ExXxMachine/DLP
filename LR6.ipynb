{
  "nbformat": 4,
  "nbformat_minor": 0,
  "metadata": {
    "colab": {
      "provenance": []
    },
    "kernelspec": {
      "name": "python3",
      "display_name": "Python 3"
    },
    "language_info": {
      "name": "python"
    }
  },
  "cells": [
    {
      "cell_type": "code",
      "execution_count": 3,
      "metadata": {
        "id": "Zwx8WNrAJR1Y"
      },
      "outputs": [],
      "source": [
        "import pandas as pd\n",
        "import numpy as np\n",
        "from sklearn.model_selection import train_test_split, GridSearchCV\n",
        "from sklearn.preprocessing import LabelEncoder, StandardScaler\n",
        "from sklearn.metrics import classification_report, confusion_matrix\n",
        "from catboost import CatBoostClassifier"
      ]
    },
    {
      "cell_type": "code",
      "source": [
        "from google.colab import drive\n",
        "drive.mount('/content/drive')"
      ],
      "metadata": {
        "colab": {
          "base_uri": "https://localhost:8080/"
        },
        "id": "9PVXc12kJ1OI",
        "outputId": "5bc85155-cfc9-452c-e9f3-7f17c528d2a7"
      },
      "execution_count": 4,
      "outputs": [
        {
          "output_type": "stream",
          "name": "stdout",
          "text": [
            "Mounted at /content/drive\n"
          ]
        }
      ]
    },
    {
      "cell_type": "markdown",
      "source": [
        "## Подключаем датасет"
      ],
      "metadata": {
        "id": "SGQgEG0nJ4cU"
      }
    },
    {
      "cell_type": "code",
      "source": [
        "df = pd.read_csv('/content/drive/MyDrive/cars.csv')\n",
        "print(df.head(5))"
      ],
      "metadata": {
        "colab": {
          "base_uri": "https://localhost:8080/"
        },
        "id": "sDyoc_bGJ9fX",
        "outputId": "e904dc87-3943-4fef-9a3f-12d585e6fbb4"
      },
      "execution_count": 5,
      "outputs": [
        {
          "output_type": "stream",
          "name": "stdout",
          "text": [
            "  manufacturer_name model_name transmission   color  odometer_value  \\\n",
            "0            Subaru    Outback    automatic  silver          190000   \n",
            "1            Subaru    Outback    automatic    blue          290000   \n",
            "2            Subaru   Forester    automatic     red          402000   \n",
            "3            Subaru    Impreza   mechanical    blue           10000   \n",
            "4            Subaru     Legacy    automatic   black          280000   \n",
            "\n",
            "   year_produced engine_fuel  engine_has_gas engine_type  engine_capacity  \\\n",
            "0           2010    gasoline           False    gasoline              2.5   \n",
            "1           2002    gasoline           False    gasoline              3.0   \n",
            "2           2001    gasoline           False    gasoline              2.5   \n",
            "3           1999    gasoline           False    gasoline              3.0   \n",
            "4           2001    gasoline           False    gasoline              2.5   \n",
            "\n",
            "   ... feature_1  feature_2 feature_3 feature_4  feature_5  feature_6  \\\n",
            "0  ...      True       True      True     False       True      False   \n",
            "1  ...      True      False     False      True       True      False   \n",
            "2  ...      True      False     False     False      False      False   \n",
            "3  ...     False      False     False     False      False      False   \n",
            "4  ...      True      False      True      True      False      False   \n",
            "\n",
            "  feature_7  feature_8  feature_9  duration_listed  \n",
            "0      True       True       True               16  \n",
            "1     False      False       True               83  \n",
            "2     False       True       True              151  \n",
            "3     False      False      False               86  \n",
            "4     False      False       True                7  \n",
            "\n",
            "[5 rows x 30 columns]\n"
          ]
        }
      ]
    },
    {
      "cell_type": "markdown",
      "metadata": {
        "id": "CIFOM8eI1Z6b"
      },
      "source": [
        "### Удаление ненужных и пустых столбцов"
      ]
    },
    {
      "cell_type": "code",
      "execution_count": 6,
      "metadata": {
        "colab": {
          "base_uri": "https://localhost:8080/"
        },
        "id": "Y4HJ0kdn1Z6o",
        "outputId": "7b1be67d-a347-4593-83c4-8399a576587e"
      },
      "outputs": [
        {
          "output_type": "stream",
          "name": "stdout",
          "text": [
            "   odometer_value  year_produced  has_warranty  price_usd  is_exchangeable  \\\n",
            "0          190000           2010         False   10900.00            False   \n",
            "1          290000           2002         False    5000.00             True   \n",
            "2          402000           2001         False    2800.00             True   \n",
            "3           10000           1999         False    9999.00             True   \n",
            "4          280000           2001         False    2134.11             True   \n",
            "\n",
            "   number_of_photos  up_counter  \n",
            "0                 9          13  \n",
            "1                12          54  \n",
            "2                 4          72  \n",
            "3                 9          42  \n",
            "4                14           7  \n"
          ]
        }
      ],
      "source": [
        "columns_to_drop = ['engine_has_gas','body_type','state','drivetrain','color','model_name','engine_fuel','manufacturer_name','engine_capacity','location_region','transmission','engine_type','feature_0','feature_1', 'feature_2', 'feature_3', 'feature_4', 'feature_5', 'feature_6', 'feature_7', 'feature_8', 'feature_9', 'duration_listed']\n",
        "df = df.drop(columns=columns_to_drop, axis=1)\n",
        "df.dropna(inplace=True)\n",
        "\n",
        "print(df.head(5))"
      ]
    },
    {
      "cell_type": "markdown",
      "metadata": {
        "id": "PV2MmnAw1Z6q"
      },
      "source": [
        "### Кодирование текстовых значений"
      ]
    },
    {
      "cell_type": "code",
      "execution_count": 7,
      "metadata": {
        "colab": {
          "base_uri": "https://localhost:8080/"
        },
        "id": "LBg-xw5k1Z6q",
        "outputId": "d951c04b-208d-4780-a50d-4f0967c5da98"
      },
      "outputs": [
        {
          "output_type": "stream",
          "name": "stdout",
          "text": [
            "   odometer_value  year_produced  has_warranty  price_usd  is_exchangeable  \\\n",
            "0          190000           2010         False   10900.00            False   \n",
            "1          290000           2002         False    5000.00             True   \n",
            "2          402000           2001         False    2800.00             True   \n",
            "3           10000           1999         False    9999.00             True   \n",
            "4          280000           2001         False    2134.11             True   \n",
            "\n",
            "   number_of_photos  up_counter  \n",
            "0                 9          13  \n",
            "1                12          54  \n",
            "2                 4          72  \n",
            "3                 9          42  \n",
            "4                14           7  \n"
          ]
        }
      ],
      "source": [
        "label_encoders = {}\n",
        "for column in df.select_dtypes(include=['object']).columns:\n",
        "    label_encoders[column] = LabelEncoder()\n",
        "    df[column] = label_encoders[column].fit_transform(df[column])\n",
        "\n",
        "print(df.head(5))"
      ]
    },
    {
      "cell_type": "markdown",
      "source": [
        "Предполагаем, что столбец is_exchangeable - это метки классов"
      ],
      "metadata": {
        "id": "zw18VfQTFKi2"
      }
    },
    {
      "cell_type": "code",
      "execution_count": 8,
      "metadata": {
        "id": "Toywe46Y1Z6r"
      },
      "outputs": [],
      "source": [
        "X = df.drop(columns=['is_exchangeable'])\n",
        "y = df['is_exchangeable']"
      ]
    },
    {
      "cell_type": "markdown",
      "source": [
        "Разбиваем данные на обучающий и тестовый наборы"
      ],
      "metadata": {
        "id": "xle6RrRjFgyJ"
      }
    },
    {
      "cell_type": "code",
      "execution_count": 9,
      "metadata": {
        "id": "aRw4U7Hk1Z6s"
      },
      "outputs": [],
      "source": [
        "X_train, X_test, y_train, y_test = train_test_split(X, y, test_size=0.2, random_state=42)\n"
      ]
    },
    {
      "cell_type": "markdown",
      "source": [
        "### Стандартизация данных"
      ],
      "metadata": {
        "id": "1lqBi2XpHf6t"
      }
    },
    {
      "cell_type": "code",
      "source": [
        "scaler = StandardScaler()\n",
        "X_train = scaler.fit_transform(X_train)\n",
        "X_test = scaler.transform(X_test)"
      ],
      "metadata": {
        "id": "Gp94WS32HlVb"
      },
      "execution_count": 10,
      "outputs": []
    },
    {
      "cell_type": "markdown",
      "source": [
        "Функция для выполнения GridSearchCV и вывода метрик"
      ],
      "metadata": {
        "id": "HZsk7kVdLoN4"
      }
    },
    {
      "cell_type": "code",
      "execution_count": 11,
      "metadata": {
        "id": "bVQLTxB-LoN-"
      },
      "outputs": [],
      "source": [
        "def evaluate_model_with_gridsearch(model, param_grid, X_train, y_train, X_test, y_test):\n",
        "    grid_search = GridSearchCV(model, param_grid, cv=5, n_jobs=-1, verbose=2)\n",
        "    grid_search.fit(X_train, y_train)\n",
        "    print(f\"Лучшие параметры для {model.__class__.__name__}: {grid_search.best_params_}\")\n",
        "\n",
        "    best_model = grid_search.best_estimator_\n",
        "    y_pred = best_model.predict(X_test)\n",
        "\n",
        "    print(f'Сравнение метрик для {model.__class__.__name__}: \\n{classification_report(y_test, y_pred)}\\n')\n",
        "    print(f'Матрица ошибок для {model.__class__.__name__}: \\n{confusion_matrix(y_test, y_pred)}\\n')\n"
      ]
    },
    {
      "cell_type": "markdown",
      "source": [
        "Определение гиперпараметров для CatBoostClassifier\n"
      ],
      "metadata": {
        "id": "4q36HyhuLoN_"
      }
    },
    {
      "cell_type": "code",
      "source": [
        "param_grid_catboost = {\n",
        "    'iterations': [100, 200, 300],\n",
        "    'depth': [4, 6, 8],\n",
        "    'learning_rate': [0.01, 0.05, 0.1]\n",
        "}"
      ],
      "metadata": {
        "id": "tgRe3LppLoN_"
      },
      "execution_count": 12,
      "outputs": []
    },
    {
      "cell_type": "markdown",
      "source": [
        "Оценка CatBoostClassifier"
      ],
      "metadata": {
        "id": "qN0RJ39ib5L0"
      }
    },
    {
      "cell_type": "code",
      "source": [
        "evaluate_model_with_gridsearch(CatBoostClassifier(silent=True), param_grid_catboost, X_train, y_train, X_test, y_test)"
      ],
      "metadata": {
        "colab": {
          "base_uri": "https://localhost:8080/"
        },
        "id": "hVGGnTX4b8GQ",
        "outputId": "a5c6c722-63ae-47b3-d8ad-961c52c50f9e"
      },
      "execution_count": 13,
      "outputs": [
        {
          "output_type": "stream",
          "name": "stdout",
          "text": [
            "Fitting 5 folds for each of 27 candidates, totalling 135 fits\n",
            "Лучшие параметры для CatBoostClassifier: {'depth': 6, 'iterations': 100, 'learning_rate': 0.1}\n",
            "Сравнение метрик для CatBoostClassifier: \n",
            "              precision    recall  f1-score   support\n",
            "\n",
            "       False       0.70      0.90      0.79      5067\n",
            "        True       0.59      0.28      0.38      2640\n",
            "\n",
            "    accuracy                           0.69      7707\n",
            "   macro avg       0.65      0.59      0.58      7707\n",
            "weighted avg       0.66      0.69      0.65      7707\n",
            "\n",
            "\n",
            "Матрица ошибок для CatBoostClassifier: \n",
            "[[4548  519]\n",
            " [1906  734]]\n",
            "\n"
          ]
        }
      ]
    }
  ]
}