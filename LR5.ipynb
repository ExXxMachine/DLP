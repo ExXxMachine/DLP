{
  "nbformat": 4,
  "nbformat_minor": 0,
  "metadata": {
    "colab": {
      "provenance": []
    },
    "kernelspec": {
      "name": "python3",
      "display_name": "Python 3"
    },
    "language_info": {
      "name": "python"
    }
  },
  "cells": [
    {
      "cell_type": "code",
      "execution_count": 17,
      "metadata": {
        "id": "Zwx8WNrAJR1Y"
      },
      "outputs": [],
      "source": [
        "import pandas as pd\n",
        "import numpy as np\n",
        "from sklearn.model_selection import train_test_split, GridSearchCV\n",
        "from sklearn.preprocessing import LabelEncoder, StandardScaler\n",
        "from sklearn.metrics import classification_report, confusion_matrix\n",
        "from sklearn.tree import DecisionTreeClassifier\n",
        "from sklearn.ensemble import RandomForestClassifier, BaggingClassifier, GradientBoostingClassifier\n"
      ]
    },
    {
      "cell_type": "code",
      "source": [
        "from google.colab import drive\n",
        "drive.mount('/content/drive')"
      ],
      "metadata": {
        "colab": {
          "base_uri": "https://localhost:8080/"
        },
        "id": "9PVXc12kJ1OI",
        "outputId": "b131cf74-8b60-44a6-ae34-be994de270db"
      },
      "execution_count": 18,
      "outputs": [
        {
          "output_type": "stream",
          "name": "stdout",
          "text": [
            "Drive already mounted at /content/drive; to attempt to forcibly remount, call drive.mount(\"/content/drive\", force_remount=True).\n"
          ]
        }
      ]
    },
    {
      "cell_type": "markdown",
      "source": [
        "## Подключаем датасет"
      ],
      "metadata": {
        "id": "SGQgEG0nJ4cU"
      }
    },
    {
      "cell_type": "code",
      "source": [
        "df = pd.read_csv('/content/drive/MyDrive/cars.csv')\n",
        "print(df.head(5))"
      ],
      "metadata": {
        "colab": {
          "base_uri": "https://localhost:8080/"
        },
        "id": "sDyoc_bGJ9fX",
        "outputId": "caf9ce9f-b24f-454d-9c2a-059521d2f900"
      },
      "execution_count": 19,
      "outputs": [
        {
          "output_type": "stream",
          "name": "stdout",
          "text": [
            "  manufacturer_name model_name transmission   color  odometer_value  \\\n",
            "0            Subaru    Outback    automatic  silver          190000   \n",
            "1            Subaru    Outback    automatic    blue          290000   \n",
            "2            Subaru   Forester    automatic     red          402000   \n",
            "3            Subaru    Impreza   mechanical    blue           10000   \n",
            "4            Subaru     Legacy    automatic   black          280000   \n",
            "\n",
            "   year_produced engine_fuel  engine_has_gas engine_type  engine_capacity  \\\n",
            "0           2010    gasoline           False    gasoline              2.5   \n",
            "1           2002    gasoline           False    gasoline              3.0   \n",
            "2           2001    gasoline           False    gasoline              2.5   \n",
            "3           1999    gasoline           False    gasoline              3.0   \n",
            "4           2001    gasoline           False    gasoline              2.5   \n",
            "\n",
            "   ... feature_1  feature_2 feature_3 feature_4  feature_5  feature_6  \\\n",
            "0  ...      True       True      True     False       True      False   \n",
            "1  ...      True      False     False      True       True      False   \n",
            "2  ...      True      False     False     False      False      False   \n",
            "3  ...     False      False     False     False      False      False   \n",
            "4  ...      True      False      True      True      False      False   \n",
            "\n",
            "  feature_7  feature_8  feature_9  duration_listed  \n",
            "0      True       True       True               16  \n",
            "1     False      False       True               83  \n",
            "2     False       True       True              151  \n",
            "3     False      False      False               86  \n",
            "4     False      False       True                7  \n",
            "\n",
            "[5 rows x 30 columns]\n"
          ]
        }
      ]
    },
    {
      "cell_type": "markdown",
      "metadata": {
        "id": "CIFOM8eI1Z6b"
      },
      "source": [
        "### Удаление ненужных и пустых столбцов"
      ]
    },
    {
      "cell_type": "code",
      "execution_count": 20,
      "metadata": {
        "colab": {
          "base_uri": "https://localhost:8080/"
        },
        "id": "Y4HJ0kdn1Z6o",
        "outputId": "a403cb56-3558-481e-84f5-083c96cc681f"
      },
      "outputs": [
        {
          "output_type": "stream",
          "name": "stdout",
          "text": [
            "   odometer_value  year_produced  has_warranty  price_usd  is_exchangeable  \\\n",
            "0          190000           2010         False   10900.00            False   \n",
            "1          290000           2002         False    5000.00             True   \n",
            "2          402000           2001         False    2800.00             True   \n",
            "3           10000           1999         False    9999.00             True   \n",
            "4          280000           2001         False    2134.11             True   \n",
            "\n",
            "   number_of_photos  up_counter  \n",
            "0                 9          13  \n",
            "1                12          54  \n",
            "2                 4          72  \n",
            "3                 9          42  \n",
            "4                14           7  \n"
          ]
        }
      ],
      "source": [
        "columns_to_drop = ['engine_has_gas','body_type','state','drivetrain','color','model_name','engine_fuel','manufacturer_name','engine_capacity','location_region','transmission','engine_type','feature_0','feature_1', 'feature_2', 'feature_3', 'feature_4', 'feature_5', 'feature_6', 'feature_7', 'feature_8', 'feature_9', 'duration_listed']\n",
        "df = df.drop(columns=columns_to_drop, axis=1)\n",
        "df.dropna(inplace=True)\n",
        "\n",
        "print(df.head(5))"
      ]
    },
    {
      "cell_type": "markdown",
      "metadata": {
        "id": "PV2MmnAw1Z6q"
      },
      "source": [
        "### Кодирование текстовых значений"
      ]
    },
    {
      "cell_type": "code",
      "execution_count": 21,
      "metadata": {
        "colab": {
          "base_uri": "https://localhost:8080/"
        },
        "id": "LBg-xw5k1Z6q",
        "outputId": "baba5c3e-afe9-4171-fb8a-1d94b2ea4841"
      },
      "outputs": [
        {
          "output_type": "stream",
          "name": "stdout",
          "text": [
            "   odometer_value  year_produced  has_warranty  price_usd  is_exchangeable  \\\n",
            "0          190000           2010         False   10900.00            False   \n",
            "1          290000           2002         False    5000.00             True   \n",
            "2          402000           2001         False    2800.00             True   \n",
            "3           10000           1999         False    9999.00             True   \n",
            "4          280000           2001         False    2134.11             True   \n",
            "\n",
            "   number_of_photos  up_counter  \n",
            "0                 9          13  \n",
            "1                12          54  \n",
            "2                 4          72  \n",
            "3                 9          42  \n",
            "4                14           7  \n"
          ]
        }
      ],
      "source": [
        "label_encoders = {}\n",
        "for column in df.select_dtypes(include=['object']).columns:\n",
        "    label_encoders[column] = LabelEncoder()\n",
        "    df[column] = label_encoders[column].fit_transform(df[column])\n",
        "\n",
        "print(df.head(5))"
      ]
    },
    {
      "cell_type": "markdown",
      "source": [
        "Предполагаем, что столбец is_exchangeable - это метки классов"
      ],
      "metadata": {
        "id": "zw18VfQTFKi2"
      }
    },
    {
      "cell_type": "code",
      "execution_count": 22,
      "metadata": {
        "id": "Toywe46Y1Z6r"
      },
      "outputs": [],
      "source": [
        "X = df.drop(columns=['is_exchangeable'])\n",
        "y = df['is_exchangeable']"
      ]
    },
    {
      "cell_type": "markdown",
      "source": [
        "Разбиваем данные на обучающий и тестовый наборы"
      ],
      "metadata": {
        "id": "xle6RrRjFgyJ"
      }
    },
    {
      "cell_type": "code",
      "execution_count": 23,
      "metadata": {
        "id": "aRw4U7Hk1Z6s"
      },
      "outputs": [],
      "source": [
        "X_train, X_test, y_train, y_test = train_test_split(X, y, test_size=0.2, random_state=42)\n"
      ]
    },
    {
      "cell_type": "markdown",
      "source": [
        "### Стандартизация данных"
      ],
      "metadata": {
        "id": "1lqBi2XpHf6t"
      }
    },
    {
      "cell_type": "code",
      "source": [
        "scaler = StandardScaler()\n",
        "X_train = scaler.fit_transform(X_train)\n",
        "X_test = scaler.transform(X_test)"
      ],
      "metadata": {
        "id": "Gp94WS32HlVb"
      },
      "execution_count": 24,
      "outputs": []
    },
    {
      "cell_type": "markdown",
      "source": [
        "Функция для выполнения GridSearchCV и вывода метрик"
      ],
      "metadata": {
        "id": "sEVQHctI3CM9"
      }
    },
    {
      "cell_type": "code",
      "execution_count": 25,
      "metadata": {
        "id": "oJjT71rb3CM9"
      },
      "outputs": [],
      "source": [
        "def evaluate_model(model, param_grid, X_train, y_train, X_test, y_test):\n",
        "    grid_search = GridSearchCV(model, param_grid, cv=5, n_jobs=-1, verbose=2)\n",
        "    grid_search.fit(X_train, y_train)\n",
        "    print(f\"Лучшие параметры для {model.__class__.__name__}: {grid_search.best_params_}\")\n",
        "\n",
        "    best_model = grid_search.best_estimator_\n",
        "    y_pred = best_model.predict(X_test)\n",
        "\n",
        "    print(f'Сравнение метрик для {model.__class__.__name__}: \\n{classification_report(y_test, y_pred)}\\n')\n",
        "    print(f'Матрица ошибок для {model.__class__.__name__}: \\n{confusion_matrix(y_test, y_pred)}\\n')\n"
      ]
    },
    {
      "cell_type": "markdown",
      "source": [
        "Определение гиперпараметров для моделей"
      ],
      "metadata": {
        "id": "DOdrvhRo3CM-"
      }
    },
    {
      "cell_type": "code",
      "source": [
        "param_grid_tree = {'max_depth': [5, 10, 15, 20], 'min_samples_split': [2, 5, 10]}\n",
        "param_grid_forest = {'n_estimators': [50, 100, 200], 'max_depth': [5, 10, 15], 'min_samples_split': [2, 5, 10]}\n",
        "param_grid_bagging = {'n_estimators': [10, 20, 50], 'max_samples': [0.5, 1.0], 'max_features': [0.5, 1.0]}\n",
        "param_grid_gradboost = {'n_estimators': [50, 100, 200], 'learning_rate': [0.01, 0.1, 0.2], 'max_depth': [3, 5, 7]}\n"
      ],
      "metadata": {
        "id": "pAOMkeLz3CM-"
      },
      "execution_count": 26,
      "outputs": []
    },
    {
      "cell_type": "markdown",
      "source": [
        "Оценка моделей"
      ],
      "metadata": {
        "id": "zI1Ncnbw3DkG"
      }
    },
    {
      "cell_type": "code",
      "execution_count": 27,
      "metadata": {
        "colab": {
          "base_uri": "https://localhost:8080/"
        },
        "outputId": "5280af6d-3b78-48f8-9dc6-d3614b7647c8",
        "id": "SFuG82O43DkG"
      },
      "outputs": [
        {
          "output_type": "stream",
          "name": "stdout",
          "text": [
            "Fitting 5 folds for each of 12 candidates, totalling 60 fits\n",
            "Лучшие параметры для DecisionTreeClassifier: {'max_depth': 5, 'min_samples_split': 2}\n",
            "Сравнение метрик для DecisionTreeClassifier: \n",
            "              precision    recall  f1-score   support\n",
            "\n",
            "       False       0.71      0.87      0.78      5067\n",
            "        True       0.56      0.33      0.41      2640\n",
            "\n",
            "    accuracy                           0.68      7707\n",
            "   macro avg       0.64      0.60      0.60      7707\n",
            "weighted avg       0.66      0.68      0.66      7707\n",
            "\n",
            "\n",
            "Матрица ошибок для DecisionTreeClassifier: \n",
            "[[4399  668]\n",
            " [1782  858]]\n",
            "\n",
            "Fitting 5 folds for each of 27 candidates, totalling 135 fits\n",
            "Лучшие параметры для RandomForestClassifier: {'max_depth': 10, 'min_samples_split': 10, 'n_estimators': 100}\n",
            "Сравнение метрик для RandomForestClassifier: \n",
            "              precision    recall  f1-score   support\n",
            "\n",
            "       False       0.70      0.90      0.79      5067\n",
            "        True       0.59      0.28      0.38      2640\n",
            "\n",
            "    accuracy                           0.69      7707\n",
            "   macro avg       0.65      0.59      0.58      7707\n",
            "weighted avg       0.67      0.69      0.65      7707\n",
            "\n",
            "\n",
            "Матрица ошибок для RandomForestClassifier: \n",
            "[[4567  500]\n",
            " [1913  727]]\n",
            "\n",
            "Fitting 5 folds for each of 12 candidates, totalling 60 fits\n",
            "Лучшие параметры для BaggingClassifier: {'max_features': 0.5, 'max_samples': 0.5, 'n_estimators': 50}\n",
            "Сравнение метрик для BaggingClassifier: \n",
            "              precision    recall  f1-score   support\n",
            "\n",
            "       False       0.69      0.94      0.80      5067\n",
            "        True       0.62      0.19      0.30      2640\n",
            "\n",
            "    accuracy                           0.68      7707\n",
            "   macro avg       0.66      0.57      0.55      7707\n",
            "weighted avg       0.67      0.68      0.62      7707\n",
            "\n",
            "\n",
            "Матрица ошибок для BaggingClassifier: \n",
            "[[4758  309]\n",
            " [2129  511]]\n",
            "\n",
            "Fitting 5 folds for each of 27 candidates, totalling 135 fits\n",
            "Лучшие параметры для GradientBoostingClassifier: {'learning_rate': 0.1, 'max_depth': 3, 'n_estimators': 200}\n",
            "Сравнение метрик для GradientBoostingClassifier: \n",
            "              precision    recall  f1-score   support\n",
            "\n",
            "       False       0.71      0.90      0.79      5067\n",
            "        True       0.60      0.29      0.39      2640\n",
            "\n",
            "    accuracy                           0.69      7707\n",
            "   macro avg       0.65      0.59      0.59      7707\n",
            "weighted avg       0.67      0.69      0.65      7707\n",
            "\n",
            "\n",
            "Матрица ошибок для GradientBoostingClassifier: \n",
            "[[4555  512]\n",
            " [1877  763]]\n",
            "\n"
          ]
        }
      ],
      "source": [
        "evaluate_model(DecisionTreeClassifier(), param_grid_tree, X_train, y_train, X_test, y_test)\n",
        "evaluate_model(RandomForestClassifier(), param_grid_forest, X_train, y_train, X_test, y_test)\n",
        "evaluate_model(BaggingClassifier(), param_grid_bagging, X_train, y_train, X_test, y_test)\n",
        "evaluate_model(GradientBoostingClassifier(), param_grid_gradboost, X_train, y_train, X_test, y_test)"
      ]
    }
  ]
}